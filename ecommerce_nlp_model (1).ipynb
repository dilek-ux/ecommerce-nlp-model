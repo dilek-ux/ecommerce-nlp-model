{
 "cells": [
  {
   "cell_type": "code",
   "execution_count": 219,
   "id": "dc384dc0-c098-4003-ae49-991a7e2bb42c",
   "metadata": {},
   "outputs": [
    {
     "name": "stderr",
     "output_type": "stream",
     "text": [
      "[nltk_data] Downloading package punkt to\n",
      "[nltk_data]     C:\\Users\\ERCAN\\AppData\\Roaming\\nltk_data...\n",
      "[nltk_data]   Package punkt is already up-to-date!\n",
      "[nltk_data] Downloading package stopwords to\n",
      "[nltk_data]     C:\\Users\\ERCAN\\AppData\\Roaming\\nltk_data...\n",
      "[nltk_data]   Package stopwords is already up-to-date!\n",
      "[nltk_data] Downloading package wordnet to\n",
      "[nltk_data]     C:\\Users\\ERCAN\\AppData\\Roaming\\nltk_data...\n",
      "[nltk_data]   Package wordnet is already up-to-date!\n"
     ]
    },
    {
     "data": {
      "text/plain": [
       "True"
      ]
     },
     "execution_count": 219,
     "metadata": {},
     "output_type": "execute_result"
    }
   ],
   "source": [
    "import pandas as pd\n",
    "import nltk\n",
    "from nltk.tokenize import word_tokenize\n",
    "from nltk.corpus import stopwords\n",
    "from nltk.stem import WordNetLemmatizer, PorterStemmer\n",
    "\n",
    "nltk.download('punkt')\n",
    "nltk.download('stopwords')\n",
    "nltk.download('wordnet')\n",
    "\n"
   ]
  },
  {
   "cell_type": "code",
   "execution_count": 221,
   "id": "dcc76599-6b88-4f11-9387-1f0d4b440ffd",
   "metadata": {},
   "outputs": [
    {
     "name": "stdout",
     "output_type": "stream",
     "text": [
      "Oluşturulan alt küme satır sayısı: 5000\n",
      "         posting_id                                 image       image_phash  \\\n",
      "0  train_3994562790  8c79f5e57737e712428b009f3b811b29.jpg  f5c972349712386d   \n",
      "1  train_2721383565  5dc0a645807ec85ba540e39ee7a1db04.jpg  b939c692c34e9867   \n",
      "2   train_161578771  e4647b784f847e807173e9329c748636.jpg  bbb84c822c86e767   \n",
      "3   train_481272730  9bf9a36b8a4f81ee1f4a0b463799e5b3.jpg  8af3f7809c5b0ce1   \n",
      "4  train_2554398684  5c138e8fccfc7bc6d6e364bd31eb6657.jpg  9b7ae0c595b38307   \n",
      "\n",
      "                                               title  label_group  \n",
      "0  Creamer Nabati (Non Dairy Creamer) Premium & R...   3829989058  \n",
      "1   Chek Hup 3 in 1 Ipoh White Coffee King 40gr x 15   2723899357  \n",
      "2  ( 27AN.ID) COD Kacamata Hitam KM50 Gaya Steamp...   2217561812  \n",
      "3          Sapu Mini + Cikrak Sebaguna (Paket Hemat)    424835120  \n",
      "4  SARUNG TANGAN IGLOVE TOUCH SCREEN HP ANDROID G...     66247839  \n"
     ]
    }
   ],
   "source": [
    "import pandas as pd\n",
    "\n",
    "# Orijinal veri\n",
    "df = pd.read_csv(\"train.csv\")\n",
    "\n",
    "# 5 000 satırlık rastgele alt küme\n",
    "df_sample = df.sample(n=5000, random_state=42)\n",
    "\n",
    "# Yeni dosyayı kaydet\n",
    "df_sample.to_csv(\"train_sample_5000.csv\", index=False)\n",
    "\n",
    "print(\"Oluşturulan alt küme satır sayısı:\", df_sample.shape[0])\n",
    "\n",
    "# Yeni oluşturduğumuz alt küme dosyasını yükle\n",
    "df_sample = pd.read_csv(\"train_sample_5000.csv\")\n",
    "\n",
    "\n",
    "# Veriyi incele\n",
    "print(df_sample.head())\n"
   ]
  },
  {
   "cell_type": "code",
   "execution_count": 223,
   "id": "1dba1079-7964-4f72-8c9a-5486ac72a280",
   "metadata": {},
   "outputs": [],
   "source": [
    "df_sample = pd.read_csv(\"train_sample_5000.csv\")\n",
    "\n",
    "# 'title sutunuyla çalışıyoruz\n",
    "sentences = df_sample['title'].astype(str).tolist()\n",
    "\n"
   ]
  },
  {
   "cell_type": "code",
   "execution_count": 225,
   "id": "7ff900db-7fa4-487d-9ae2-56f0c9d01aaa",
   "metadata": {},
   "outputs": [],
   "source": [
    "import re\n",
    "\n",
    "# Örnek marka listesi — gerekirse genişletilebilir\n",
    "brands = ['nike', 'adidas', 'samsung', 'apple', 'xiaomi', 'huawei']\n",
    "\n",
    "def clean_text(text):\n",
    "    if pd.isna(text):\n",
    "        return \"\"\n",
    "    \n",
    "    text = text.lower()  # Lowercase (küçük harfe dönüştür)\n",
    "    \n",
    "    # HTML taglerini temizle\n",
    "    text = re.sub(r'<[^>]+_>', '', text)\n",
    "    \n",
    "    # Marka isimlerini kaldır (önce brands listesi tanımlanmış olmalı)\n",
    "    # Burada sadece listeyi kullanıyoruz ve listede yer alan markaları tamamen temizliyoruz\n",
    "    text = re.sub(r'(' + '|'.join(map(re.escape, brands)) + r')', '', text)\n",
    "\n",
    "    # Fiyat ifadelerini kaldır (USD, GBP, EUR, $, £, €)\n",
    "    text = re.sub(r'\\d+(?:\\.\\d+)?\\s?(usd|gbp|eur|\\$|£|€)', '', text)\n",
    "    \n",
    "    # Ölçü birimlerini kaldır (pound, oz, lb, ml, l, g, mg, inch, in, cm, mm)\n",
    "    text = re.sub(r'\\d+(?:\\.\\d+)?\\s?(pounds?|lbs?|oz|ml|l|g|gr|x|kg|mg|inch|in|cm|mm)', '', text)\n",
    "\n",
    "    # Kalan tüm sayıları temizle\n",
    "    text = re.sub(r'\\d+', '', text)\n",
    "    \n",
    "    # Noktalama işaretlerini kaldır (sadece harf ve rakamlar kalsın)\n",
    "    text = re.sub(r'[^\\w\\s]', '', text)\n",
    "    \n",
    "    # Fazla boşlukları temizle ve başındaki/sonundaki boşlukları kaldır\n",
    "    text = re.sub(r'\\s+', ' ', text).strip()\n",
    " \n",
    "    return text\n",
    "\n",
    "\n",
    "\n",
    "\n"
   ]
  },
  {
   "cell_type": "code",
   "execution_count": 227,
   "id": "2c7e3d9c-abfc-47a8-bfa4-fdbd3f156119",
   "metadata": {},
   "outputs": [
    {
     "name": "stdout",
     "output_type": "stream",
     "text": [
      "                                               title  \\\n",
      "0  Creamer Nabati (Non Dairy Creamer) Premium & R...   \n",
      "1   Chek Hup 3 in 1 Ipoh White Coffee King 40gr x 15   \n",
      "2  ( 27AN.ID) COD Kacamata Hitam KM50 Gaya Steamp...   \n",
      "3          Sapu Mini + Cikrak Sebaguna (Paket Hemat)   \n",
      "4  SARUNG TANGAN IGLOVE TOUCH SCREEN HP ANDROID G...   \n",
      "\n",
      "                                       cleaned_title  \\\n",
      "0   creamer nabati non dairy creamer premium reguler   \n",
      "1                chek hup ipoh white coffee king r x   \n",
      "2  anid cod kacamata hitam kmaya steampunk vintag...   \n",
      "3              sapu mini cikrak sebaguna paket hemat   \n",
      "4  sarung tangan iglove touch screen hp android g...   \n",
      "\n",
      "                                    lemmatized_title  \n",
      "0   creamer nabati non dairy creamer premium reguler  \n",
      "1                chek hup ipoh white coffee king r x  \n",
      "2  anid cod kacamata hitam kmaya steampunk vintag...  \n",
      "3              sapu mini cikrak sebaguna paket hemat  \n",
      "4  sarung tangan iglove touch screen hp android g...  \n"
     ]
    }
   ],
   "source": [
    "# Lemmatizer başlat\n",
    "lemmatizer = WordNetLemmatizer()\n",
    "\n",
    "# POS etiketlerini WordNet formatına dönüştüren fonksiyon\n",
    "def get_pos(tag):\n",
    "    if tag.startswith('J'): return wordnet.ADJ     # Sıfat\n",
    "    elif tag.startswith('V'): return wordnet.VERB  # Fiil\n",
    "    elif tag.startswith('R'): return wordnet.ADV   # Zarf\n",
    "    else: return wordnet.NOUN                      # İsim (varsayılan)\n",
    "\n",
    "# Lemmatizasyon yapan fonksiyon\n",
    "def lemmatize_text(text):\n",
    "    tokens = word_tokenize(text)                  # Kelimelere ayır\n",
    "    tags = pos_tag(tokens)                        # Her kelimeye tür etiketi ata\n",
    "    return \" \".join([lemmatizer.lemmatize(w, get_pos(t)) for w, t in tags])  # Lemmatize et\n",
    "\n",
    "# CSV dosyasını oku\n",
    "df_sample = pd.read_csv(\"train_sample_5000.csv\")\n",
    "\n",
    "# Temizlenmiş ve kök hâline getirilmiş başlıkları ekle\n",
    "df_sample[\"cleaned_title\"] = df_sample[\"title\"].astype(str).apply(clean_text)\n",
    "df_sample[\"lemmatized_title\"] = df_sample[\"cleaned_title\"].apply(lemmatize_text)\n",
    "\n",
    "# Sonuçları kontrol etmek için ilk 5 satırı yazdır\n",
    "print(df_sample[[\"title\", \"cleaned_title\", \"lemmatized_title\"]].head())"
   ]
  },
  {
   "cell_type": "code",
   "execution_count": 229,
   "id": "0b509077-9bd1-4b69-9d77-9c61363be043",
   "metadata": {},
   "outputs": [
    {
     "data": {
      "image/png": "[encoded data removed]",
      "text/plain": [
       "<Figure size 1000x600 with 1 Axes>"
      ]
     },
     "metadata": {},
     "output_type": "display_data"
    }
   ],
   "source": [
    "import matplotlib.pyplot as plt\n",
    "from collections import Counter\n",
    "import numpy as np\n",
    "\n",
    "# Verilerinizi almak ve kelimelere ayırmak\n",
    "all_words = ' '.join(df_sample['cleaned_title']).split()\n",
    "\n",
    "# Kelimelerin sıklıklarını hesaplamak\n",
    "word_counts = Counter(all_words)\n",
    "\n",
    "# Sıklıkların sıralanması (en sık kullanılan kelime en başta)\n",
    "sorted_word_counts = word_counts.most_common()\n",
    "\n",
    "# Rank ve Frequency verilerini hazırlıyoruz\n",
    "ranks = np.arange(1, len(sorted_word_counts) + 1)\n",
    "frequencies = [count for word, count in sorted_word_counts]\n",
    "\n",
    "# Zipf Yasası log-log grafiği çizme\n",
    "plt.figure(figsize=(10,6))\n",
    "plt.loglog(ranks, frequencies, marker='.', linestyle='None')\n",
    "plt.title(\"Zipf Yasası Analizi (Log-Log Grafiği)\")\n",
    "plt.xlabel(\"Rank (Kelime Sırası)\")\n",
    "plt.ylabel(\"Frequency (Kelime Frekansı)\")\n",
    "plt.grid(True)\n",
    "plt.show()\n"
   ]
  },
  {
   "cell_type": "code",
   "execution_count": 231,
   "id": "e6859a29-82d0-4bda-bef9-d0c7353e5032",
   "metadata": {},
   "outputs": [],
   "source": [
    "lemmatizer = WordNetLemmatizer()\n",
    "stemmer = PorterStemmer()\n",
    "stop_words = set(stopwords.words('english'))\n",
    "\n",
    "def preprocess_sentence(sentence):\n",
    "    tokens = word_tokenize(sentence)  # Cümleyi kelimelere ayırdık\n",
    "    filtered_tokens = [token.lower() for token in tokens if token.isalpha() and token.lower() not in stop_words]\n",
    "    lemmatized_tokens = [lemmatizer.lemmatize(token) for token in filtered_tokens]\n",
    "    stemmed_tokens = [stemmer.stem(token) for token in filtered_tokens]\n",
    "    return lemmatized_tokens, stemmed_tokens\n",
    "\n",
    "# Tüm veriye uyguladık\n",
    "tokenized_corpus_lemmatized = []\n",
    "tokenized_corpus_stemmed = []\n",
    "\n",
    "for sentence in sentences:\n",
    "    lemmatized_tokens, stemmed_tokens = preprocess_sentence(sentence)\n",
    "    tokenized_corpus_lemmatized.append(lemmatized_tokens)\n",
    "    tokenized_corpus_stemmed.append(stemmed_tokens)\n"
   ]
  },
  {
   "cell_type": "code",
   "execution_count": 233,
   "id": "90ba7d9f-5944-44ab-bdc3-09b835d6f32f",
   "metadata": {},
   "outputs": [
    {
     "name": "stdout",
     "output_type": "stream",
     "text": [
      "Lemmatize Edilmiş İlk 3 Cümle:\n",
      "1. ['creamer', 'nabati', 'non', 'dairy', 'creamer', 'premium', 'reguler', 'kg']\n",
      "2. ['chek', 'hup', 'ipoh', 'white', 'coffee', 'king', 'x']\n",
      "3. ['cod', 'kacamata', 'hitam', 'gaya', 'steampunk', 'vintage', 'bentuk', 'kotak', 'gaya', 'harajuku']\n"
     ]
    }
   ],
   "source": [
    "# İlk 3 lemmatize edilmiş sonucu gösterdik\n",
    "print(\"Lemmatize Edilmiş İlk 3 Cümle:\")\n",
    "for i, tokens in enumerate(tokenized_corpus_lemmatized[:3], start=1):\n",
    "    print(f\"{i}. {tokens}\")\n"
   ]
  },
  {
   "cell_type": "code",
   "execution_count": 235,
   "id": "b11c4b82-f9ec-4b5e-a918-aaeb1ef112ba",
   "metadata": {},
   "outputs": [],
   "source": [
    "# 1) Önce token listelerini DataFrame’e ekledik\n",
    "df_sample['tokens_lemmatized'] = tokenized_corpus_lemmatized\n",
    "\n",
    "# 2) Ardından bu sütunu boşlukla birleştirip CSV’ye yazdırdık\n",
    "df_sample['tokens_lemmatized'] \\\n",
    "    .apply(lambda lst: ' '.join(lst)) \\\n",
    "    .to_csv('lemmatized_sentences.csv', index=False, header=['lemmatized_text'])\n",
    "\n",
    "# Stemlenmiş token listelerini DataFrame’e ekledik\n",
    "df_sample['tokens_stemmed'] = tokenized_corpus_stemmed\n",
    "\n",
    "# Stemlenmiş cümleleri boşlukla birleştirip CSV’ye yazdırdık\n",
    "df_sample['tokens_stemmed'] \\\n",
    "    .apply(lambda lst: ' '.join(lst)) \\\n",
    "    .to_csv('stemmed_sentences.csv', index=False, header=['stemmed_text'])\n",
    "\n"
   ]
  },
  {
   "cell_type": "code",
   "execution_count": 237,
   "id": "5d69ab6a-3378-4f46-a5e0-0eca4a59931b",
   "metadata": {},
   "outputs": [
    {
     "name": "stdout",
     "output_type": "stream",
     "text": [
      "\n",
      "Temizlenmiş ve işlenmiş verinin ilk 5 satırı:\n",
      "                                               title  \\\n",
      "0  Creamer Nabati (Non Dairy Creamer) Premium & R...   \n",
      "1   Chek Hup 3 in 1 Ipoh White Coffee King 40gr x 15   \n",
      "2  ( 27AN.ID) COD Kacamata Hitam KM50 Gaya Steamp...   \n",
      "3          Sapu Mini + Cikrak Sebaguna (Paket Hemat)   \n",
      "4  SARUNG TANGAN IGLOVE TOUCH SCREEN HP ANDROID G...   \n",
      "\n",
      "                                   tokens_lemmatized  \\\n",
      "0  [creamer, nabati, non, dairy, creamer, premium...   \n",
      "1          [chek, hup, ipoh, white, coffee, king, x]   \n",
      "2  [cod, kacamata, hitam, gaya, steampunk, vintag...   \n",
      "3       [sapu, mini, cikrak, sebaguna, paket, hemat]   \n",
      "4  [sarung, tangan, iglove, touch, screen, hp, an...   \n",
      "\n",
      "                                      tokens_stemmed  \n",
      "0  [creamer, nabati, non, dairi, creamer, premium...  \n",
      "1           [chek, hup, ipoh, white, coffe, king, x]  \n",
      "2  [cod, kacamata, hitam, gaya, steampunk, vintag...  \n",
      "3       [sapu, mini, cikrak, sebaguna, paket, hemat]  \n",
      "4  [sarung, tangan, iglov, touch, screen, hp, and...  \n"
     ]
    }
   ],
   "source": [
    "print(\"\\nTemizlenmiş ve işlenmiş verinin ilk 5 satırı:\")\n",
    "print(df_sample[['title', 'tokens_lemmatized', 'tokens_stemmed']].head(5))\n"
   ]
  },
  {
   "cell_type": "code",
   "execution_count": 239,
   "id": "3f7319bd-78e1-43b5-a74e-0158bf0f24f7",
   "metadata": {},
   "outputs": [
    {
     "data": {
      "text/plain": [
       "['creamer nabati non dairy creamer premium reguler kg',\n",
       " 'chek hup ipoh white coffee king x',\n",
       " 'cod kacamata hitam gaya steampunk vintage bentuk kotak gaya harajuku']"
      ]
     },
     "execution_count": 239,
     "metadata": {},
     "output_type": "execute_result"
    }
   ],
   "source": [
    "from sklearn.feature_extraction.text import TfidfVectorizer\n",
    "# Ön işlenmiş token listelerini tekrar metne çeviriyoruz\n",
    "lemmatized_texts = [' '.join(tokens) for tokens in tokenized_corpus_lemmatized]\n",
    "lemmatized_texts[:3]"
   ]
  },
  {
   "cell_type": "code",
   "execution_count": 241,
   "id": "c02526ca-0a7f-4cae-9eb7-56128839d634",
   "metadata": {},
   "outputs": [],
   "source": [
    "# Şimdi TF-IDF Uygulama Aşamasına Geçiyoruz#\n"
   ]
  },
  {
   "cell_type": "code",
   "execution_count": 243,
   "id": "1b4c1008-2b00-4387-b99d-f75e83c34b29",
   "metadata": {},
   "outputs": [
    {
     "name": "stdout",
     "output_type": "stream",
     "text": [
      "   _benassi  _hajar   aa  aaa  aambar  aarealme   ab  abadi  abang  abaya  \\\n",
      "0       0.0     0.0  0.0  0.0     0.0       0.0  0.0    0.0    0.0    0.0   \n",
      "1       0.0     0.0  0.0  0.0     0.0       0.0  0.0    0.0    0.0    0.0   \n",
      "2       0.0     0.0  0.0  0.0     0.0       0.0  0.0    0.0    0.0    0.0   \n",
      "3       0.0     0.0  0.0  0.0     0.0       0.0  0.0    0.0    0.0    0.0   \n",
      "4       0.0     0.0  0.0  0.0     0.0       0.0  0.0    0.0    0.0    0.0   \n",
      "\n",
      "   ...  zumba  zuper  zuperrr  zuriat  zuvia  zuzhu  zva  zwits  zwitsal  \\\n",
      "0  ...    0.0    0.0      0.0     0.0    0.0    0.0  0.0    0.0      0.0   \n",
      "1  ...    0.0    0.0      0.0     0.0    0.0    0.0  0.0    0.0      0.0   \n",
      "2  ...    0.0    0.0      0.0     0.0    0.0    0.0  0.0    0.0      0.0   \n",
      "3  ...    0.0    0.0      0.0     0.0    0.0    0.0  0.0    0.0      0.0   \n",
      "4  ...    0.0    0.0      0.0     0.0    0.0    0.0  0.0    0.0      0.0   \n",
      "\n",
      "   zwitsbaby  \n",
      "0        0.0  \n",
      "1        0.0  \n",
      "2        0.0  \n",
      "3        0.0  \n",
      "4        0.0  \n",
      "\n",
      "[5 rows x 8578 columns]\n",
      "✅ tfidf_lemmatized.csv dosyası kaydedildi.\n"
     ]
    }
   ],
   "source": [
    "# TF-IDF vektörizerı başlatıyoruz\n",
    "vectorizer = TfidfVectorizer()\n",
    "# TF-IDF matrisini oluşturuyoruz\n",
    "# Terim frekansları, belge frekanslarını hesaplar\n",
    "# TF-IDF vektörlerine dönüştürür\n",
    "tfidf_matrix = vectorizer.fit_transform(df_sample['lemmatized_title'])\n",
    "\n",
    "# Kelimeleri alalım\n",
    "# TF-IDF vektörleştirme işleminde kullanılan tüm kelimelerin eşsiz bir listesini alalım\n",
    "feature_names = vectorizer.get_feature_names_out()\n",
    "\n",
    "# TF-IDF matrisini pandas DataFrame'e çevir - görünürlük açısından\n",
    "tfidf_df = pd.DataFrame(tfidf_matrix.toarray(), columns=feature_names)\n",
    "\n",
    "# İlk birkaç satırı gösterelim - ilk 5 cümle\n",
    "print(tfidf_df.head())\n",
    "\n",
    "# Sonuçları bir CSV dosyasına kaydedelim\n",
    "tfidf_df.to_csv(\"tfidf_lemmatized.csv\", index=False)\n",
    "print(\"✅ tfidf_lemmatized.csv dosyası kaydedildi.\")\n"
   ]
  },
  {
   "cell_type": "code",
   "execution_count": 245,
   "id": "94120128-be19-41e2-9dc0-7abed9858cff",
   "metadata": {},
   "outputs": [
    {
     "name": "stdout",
     "output_type": "stream",
     "text": [
      "   _benassi  _hajar   aa  aaa  aambar  aarealm   ab  abadi  abang  abaya  ...  \\\n",
      "0       0.0     0.0  0.0  0.0     0.0      0.0  0.0    0.0    0.0    0.0  ...   \n",
      "1       0.0     0.0  0.0  0.0     0.0      0.0  0.0    0.0    0.0    0.0  ...   \n",
      "2       0.0     0.0  0.0  0.0     0.0      0.0  0.0    0.0    0.0    0.0  ...   \n",
      "3       0.0     0.0  0.0  0.0     0.0      0.0  0.0    0.0    0.0    0.0  ...   \n",
      "4       0.0     0.0  0.0  0.0     0.0      0.0  0.0    0.0    0.0    0.0  ...   \n",
      "\n",
      "   zumba  zuper  zuperrr  zuriat  zuvia  zuzhu  zva  zwit  zwitsal  zwitsbabi  \n",
      "0    0.0    0.0      0.0     0.0    0.0    0.0  0.0   0.0      0.0        0.0  \n",
      "1    0.0    0.0      0.0     0.0    0.0    0.0  0.0   0.0      0.0        0.0  \n",
      "2    0.0    0.0      0.0     0.0    0.0    0.0  0.0   0.0      0.0        0.0  \n",
      "3    0.0    0.0      0.0     0.0    0.0    0.0  0.0   0.0      0.0        0.0  \n",
      "4    0.0    0.0      0.0     0.0    0.0    0.0  0.0   0.0      0.0        0.0  \n",
      "\n",
      "[5 rows x 8345 columns]\n",
      "✅ tfidf_stemmed.csv dosyası kaydedildi.\n"
     ]
    }
   ],
   "source": [
    "from sklearn.feature_extraction.text import TfidfVectorizer\n",
    "import nltk\n",
    "from nltk.stem import PorterStemmer\n",
    "from nltk.tokenize import word_tokenize\n",
    "\n",
    "# df_sample zaten yüklü ve 'lemmatized_title' sütununu içeriyor\n",
    "# Metinleri listeye dönüştür\n",
    "texts = df_sample[\"lemmatized_title\"].astype(str).tolist()\n",
    "\n",
    "# PorterStemmer ile stemming\n",
    "stemmer = PorterStemmer()\n",
    "stemmed_texts = []\n",
    "for text in texts:\n",
    "    tokens = word_tokenize(text)                       # Cümleyi kelimelere ayır\n",
    "    stemmed = [stemmer.stem(token) for token in tokens]  # Her kelimenin kökünü al\n",
    "    stemmed_texts.append(\" \".join(stemmed))            # Yeniden cümle hâline getir\n",
    "\n",
    "# Şimdi TF-IDF işlemini yap\n",
    "vectorizer_stem = TfidfVectorizer()\n",
    "tfidf_matrix_stem = vectorizer_stem.fit_transform(stemmed_texts)\n",
    "feature_names_stem = vectorizer_stem.get_feature_names_out()\n",
    "\n",
    "# DataFrame'e çevir ve CSV'ye kaydet\n",
    "tfidf_df_stem = pd.DataFrame(tfidf_matrix_stem.toarray(), columns=feature_names_stem)\n",
    "tfidf_df_stem.to_csv(\"tfidf_stemmed.csv\", index=False)\n",
    "\n",
    "# İlk 5 satırı göster\n",
    "print(tfidf_df_stem.head())\n",
    "print(\"✅ tfidf_stemmed.csv dosyası kaydedildi.\")\n"
   ]
  },
  {
   "cell_type": "code",
   "execution_count": 246,
   "id": "1ed3a4ef-13cb-4d0f-a596-171d9e33f355",
   "metadata": {},
   "outputs": [
    {
     "name": "stdout",
     "output_type": "stream",
     "text": [
      "İlk cümlede en yüksek TF-IDF skoruna sahip 5 kelime:\n",
      "creamer    0.707915\n",
      "nabati     0.384131\n",
      "dairy      0.366481\n",
      "reguler    0.318657\n",
      "non        0.270833\n",
      "Name: 0, dtype: float64\n"
     ]
    }
   ],
   "source": [
    "from sklearn.feature_extraction.text import TfidfVectorizer\n",
    "\n",
    "# df_sample üzerinde 'lemmatized_title' sütununu kullanıyoruz\n",
    "tfidf = TfidfVectorizer()\n",
    "df_tfidf = pd.DataFrame(\n",
    "    tfidf.fit_transform(df_sample[\"lemmatized_title\"].astype(str)).toarray(),\n",
    "    columns=tfidf.get_feature_names_out()\n",
    ")\n",
    "\n",
    "print(\"İlk cümlede en yüksek TF-IDF skoruna sahip 5 kelime:\")\n",
    "print(df_tfidf.iloc[0].sort_values(ascending=False).head(5))\n"
   ]
  },
  {
   "cell_type": "code",
   "execution_count": 249,
   "id": "d1d49041-5b30-4528-b168-3558c687dca5",
   "metadata": {},
   "outputs": [
    {
     "name": "stdout",
     "output_type": "stream",
     "text": [
      "İlk cümlede en yüksek TF-IDF skoruna sahip 5 kelime:\n",
      "creamer    0.710701\n",
      "nabati     0.385643\n",
      "dairi      0.367923\n",
      "regul      0.307338\n",
      "non        0.271898\n",
      "Name: 0, dtype: float64\n"
     ]
    }
   ],
   "source": [
    "from nltk.stem import PorterStemmer\n",
    "from nltk.tokenize import word_tokenize\n",
    "\n",
    "# PorterStemmer nesnesi\n",
    "stemmer = PorterStemmer()\n",
    "\n",
    "# Her başlık için stemming uygula\n",
    "def stem_text(text):\n",
    "    tokens = word_tokenize(str(text))\n",
    "    stems  = [stemmer.stem(t) for t in tokens]\n",
    "    return \" \".join(stems)\n",
    "\n",
    "# Yeni sütunu ekle\n",
    "df_sample[\"stemmed_title\"] = df_sample[\"lemmatized_title\"].apply(stem_text)\n",
    "\n",
    "\n",
    "tfidf = TfidfVectorizer()\n",
    "# Artık sütun var, doğrudan kullan\n",
    "tfidf_matrix = tfidf.fit_transform(df_sample[\"stemmed_title\"].astype(str))\n",
    "df_tfidf = pd.DataFrame(tfidf_matrix.toarray(), columns=tfidf.get_feature_names_out())\n",
    "\n",
    "print(\"İlk cümlede en yüksek TF-IDF skoruna sahip 5 kelime:\")\n",
    "print(df_tfidf.iloc[0].sort_values(ascending=False).head(5))\n",
    "\n"
   ]
  },
  {
   "cell_type": "code",
   "execution_count": 251,
   "id": "abf4f52c-11b6-4b72-8146-5205bd0d8f48",
   "metadata": {},
   "outputs": [
    {
     "name": "stdout",
     "output_type": "stream",
     "text": [
      "‘creamer’ kelimesine en çok benzeyen 5 kelime:\n",
      "dairy: 0.8389\n",
      "nabati: 0.5553\n",
      "sejkt: 0.5443\n",
      "diary: 0.5443\n",
      "non: 0.3019\n"
     ]
    }
   ],
   "source": [
    "from sklearn.metrics.pairwise import cosine_similarity\n",
    "\n",
    "# 1) TF-IDF matrisini df_sample üzerinden yeniden oluşturuyoruz\n",
    "vectorizer = TfidfVectorizer()\n",
    "tfidf_matrix = vectorizer.fit_transform(df_sample[\"lemmatized_title\"].astype(str))\n",
    "feature_names = vectorizer.get_feature_names_out()\n",
    "\n",
    "# 2) \"creamer\" kelimesinin TF-IDF vektörünü al\n",
    "creamer_index = list(feature_names).index(\"creamer\")          # 'creamer' indeksini bul\n",
    "creamer_vector = tfidf_matrix[:, creamer_index].toarray()    # o terimin vektörü\n",
    "\n",
    "# 3) Tüm terimlerin vektörlerini kullanarak sütunlar arası benzerlik hesapladık\n",
    "#    (tfidf_matrix.T ile sütun bazlı vektörler elde ediyoruz)\n",
    "similarities = cosine_similarity(tfidf_matrix.T[creamer_index], tfidf_matrix.T).flatten()\n",
    "\n",
    "# 4) En yüksek 5 benzer terimi al (kendisi de geleceği için 6 alıp ilkini atacağız)\n",
    "top_idxs = similarities.argsort()[-6:][::-1]\n",
    "top_idxs = [i for i in top_idxs if i != creamer_index][:5]\n",
    "\n",
    "# 5) Sonuçları yazdırdık\n",
    "print(\"‘creamer’ kelimesine en çok benzeyen 5 kelime:\")\n",
    "for idx in top_idxs:\n",
    "    print(f\"{feature_names[idx]}: {similarities[idx]:.4f}\")\n",
    "\n"
   ]
  },
  {
   "cell_type": "code",
   "execution_count": 253,
   "id": "1e632279-6db3-4329-8ce5-cf9f7f1ab0d3",
   "metadata": {},
   "outputs": [],
   "source": [
    "#Word2Vec modeline geçiyoruz#"
   ]
  },
  {
   "cell_type": "code",
   "execution_count": 255,
   "id": "d39d1cf6-25f4-45c8-ad68-6d530605244c",
   "metadata": {},
   "outputs": [],
   "source": [
    "import pandas as pd\n",
    "import nltk\n",
    "from nltk.tokenize import word_tokenize\n",
    "from gensim.models import Word2Vec\n",
    "import os\n"
   ]
  },
  {
   "cell_type": "code",
   "execution_count": 257,
   "id": "adec2ea5-9f6d-44c1-9ef2-118479ad9624",
   "metadata": {},
   "outputs": [],
   "source": [
    "# Örnek olarak bir CSV dosyasındaki 'text' sütununu kullanalım\n",
    "df = pd.read_csv(\"train_sample_5000.csv\")\n",
    "texts = df_sample[\"title\"].dropna().astype(str).tolist()  # eksik değer kontrolü\n",
    "\n",
    "# Tokenize edilmiş cümle listesi\n",
    "tokenized_texts = [word_tokenize(text.lower()) for text in texts]\n"
   ]
  },
  {
   "cell_type": "code",
   "execution_count": 258,
   "id": "64d873ea-b61b-4a73-a15e-0d713323c3c3",
   "metadata": {},
   "outputs": [
    {
     "name": "stdout",
     "output_type": "stream",
     "text": [
      "→ Saved lemmatized_model_cbow_w2_d100.model\n",
      "→ Saved lemmatized_model_skipgram_w2_d100.model\n",
      "→ Saved lemmatized_model_cbow_w4_d100.model\n",
      "→ Saved lemmatized_model_skipgram_w4_d100.model\n",
      "→ Saved lemmatized_model_cbow_w2_d300.model\n",
      "→ Saved lemmatized_model_skipgram_w2_d300.model\n",
      "→ Saved lemmatized_model_cbow_w4_d300.model\n",
      "→ Saved lemmatized_model_skipgram_w4_d300.model\n",
      "→ Saved stemmed_model_cbow_w2_d100.model\n",
      "→ Saved stemmed_model_skipgram_w2_d100.model\n",
      "→ Saved stemmed_model_cbow_w4_d100.model\n",
      "→ Saved stemmed_model_skipgram_w4_d100.model\n",
      "→ Saved stemmed_model_cbow_w2_d300.model\n",
      "→ Saved stemmed_model_skipgram_w2_d300.model\n",
      "→ Saved stemmed_model_cbow_w4_d300.model\n",
      "→ Saved stemmed_model_skipgram_w4_d300.model\n"
     ]
    }
   ],
   "source": [
    "# 1) df_sample’dan tokenized corpus’ları oluştur\n",
    "tokenized_corpus_lemmatized = df_sample[\"lemmatized_title\"] \\\n",
    "    .dropna().astype(str) \\\n",
    "    .apply(lambda t: word_tokenize(t.lower())) \\\n",
    "    .tolist()\n",
    "\n",
    "tokenized_corpus_stemmed = df_sample[\"stemmed_title\"] \\\n",
    "    .dropna().astype(str) \\\n",
    "    .apply(lambda t: word_tokenize(t.lower())) \\\n",
    "    .tolist()\n",
    "\n",
    "# 2) Parametre setleri\n",
    "parameters = [\n",
    "    {'model_type': 'cbow',     'window': 2, 'vector_size': 100},\n",
    "    {'model_type': 'skipgram', 'window': 2, 'vector_size': 100},\n",
    "    {'model_type': 'cbow',     'window': 4, 'vector_size': 100},\n",
    "    {'model_type': 'skipgram', 'window': 4, 'vector_size': 100},\n",
    "    {'model_type': 'cbow',     'window': 2, 'vector_size': 300},\n",
    "    {'model_type': 'skipgram', 'window': 2, 'vector_size': 300},\n",
    "    {'model_type': 'cbow',     'window': 4, 'vector_size': 300},\n",
    "    {'model_type': 'skipgram', 'window': 4, 'vector_size': 300}\n",
    "]\n",
    "\n",
    "# 3) Model eğitme ve kaydetme fonksiyonu\n",
    "def train_and_save_model(corpus, params, prefix):\n",
    "    sg_flag = 1 if params['model_type']=='skipgram' else 0\n",
    "    model = Word2Vec(\n",
    "        sentences=corpus,\n",
    "        vector_size=params['vector_size'],\n",
    "        window=params['window'],\n",
    "        min_count=1,\n",
    "        sg=sg_flag,\n",
    "        workers=4,\n",
    "        epochs=10\n",
    "    )\n",
    "    fname = f\"{prefix}_{params['model_type']}_w{params['window']}_d{params['vector_size']}.model\"\n",
    "    model.save(fname)\n",
    "    print(f\"→ Saved {fname}\")\n",
    "\n",
    "# 4) Eğit ve kaydet\n",
    "for p in parameters:\n",
    "    train_and_save_model(tokenized_corpus_lemmatized, p, \"lemmatized_model\")\n",
    "\n",
    "for p in parameters:\n",
    "    train_and_save_model(tokenized_corpus_stemmed,  p, \"stemmed_model\")\n"
   ]
  },
  {
   "cell_type": "code",
   "execution_count": 263,
   "id": "b726142f-1b53-4fc3-b3c4-8efdf14884a6",
   "metadata": {},
   "outputs": [
    {
     "name": "stdout",
     "output_type": "stream",
     "text": [
      "\n",
      "Lemmatized CBOW Window 2 Dim 100 Modeli - 'creamer' ile En Benzer 3 Kelime:\n",
      "Kelime: gel, Benzerlik Skoru: 0.9620\n",
      "Kelime: oppo, Benzerlik Skoru: 0.9615\n",
      "Kelime: minyak, Benzerlik Skoru: 0.9615\n",
      "\n",
      "Stemmed Skipgram Window 4 Dim 100 Modeli - 'creamer' ile En Benzer 3 Kelime:\n",
      "Kelime: yard, Benzerlik Skoru: 0.9961\n",
      "Kelime: luka, Benzerlik Skoru: 0.9959\n",
      "Kelime: protector, Benzerlik Skoru: 0.9957\n",
      "\n",
      "Lemmatized Skipgram Window 2 Dim 300 Modeli - 'creamer' ile En Benzer 3 Kelime:\n",
      "Kelime: inch, Benzerlik Skoru: 0.9984\n",
      "Kelime: meter, Benzerlik Skoru: 0.9981\n",
      "Kelime: gram, Benzerlik Skoru: 0.9981\n"
     ]
    }
   ],
   "source": [
    "from gensim.models import Word2Vec\n",
    "\n",
    "# Modelleri yükledik\n",
    "model_1 = Word2Vec.load(\"lemmatized_model_cbow_window2_dim100.model\")\n",
    "model_2 = Word2Vec.load(\"stemmed_model_skipgram_window4_dim100.model\")\n",
    "model_3 = Word2Vec.load(\"lemmatized_model_skipgram_window2_dim300.model\")\n",
    "\n",
    "# Benzer kelimeleri yazdıran fonksiyon\n",
    "def print_similar_words(model, model_name, keyword='creamer'):\n",
    "    try:\n",
    "        similarity = model.wv.most_similar(keyword, topn=3)\n",
    "        print(f\"\\n{model_name} Modeli - '{keyword}' ile En Benzer 3 Kelime:\")\n",
    "        for word, score in similarity:\n",
    "            print(f\"Kelime: {word}, Benzerlik Skoru: {score:.4f}\")\n",
    "    except KeyError:\n",
    "        print(f\"\\n{model_name} Modeli: '{keyword}' kelimesi modelin kelime dağarcığında bulunamadı.\")\n",
    "\n",
    "# Her model için fonksiyonu çağırdık\n",
    "print_similar_words(model_1, \"Lemmatized CBOW Window 2 Dim 100\")\n",
    "print_similar_words(model_2, \"Stemmed Skipgram Window 4 Dim 100\")\n",
    "print_similar_words(model_3, \"Lemmatized Skipgram Window 2 Dim 300\")\n"
   ]
  },
  {
   "cell_type": "code",
   "execution_count": 195,
   "id": "3633be01-3b59-4a72-84d6-84b130d83622",
   "metadata": {},
   "outputs": [
    {
     "name": "stdout",
     "output_type": "stream",
     "text": [
      "dict_keys(['wanita', 'anak', 'original', 'bayi', 'murah', 'dan', 'ta', 'masker', 'pria', 'untuk', 'ml', 'anti', 'kaos', 'set', 'isi', 'baby', 'import', 'mini', 'cod', 'air', 'baju', 'warna', 'premium', 'sepatu', 'cream', 'celana', 'motif', 'x', 'polo', 'tangan', 'rak', 'bisa', 'bahan', 'gr', 'pc', 'termurah', 'alat', 'case', 'led', 'fashion', 'mainan', 'serum', 'mask', 'plus', 'free', 'kaki', 'rambut', 'promo', 'tempat', 'wajah', 'pro', 'usb', 'bpom', 'panjang', 'ori', 'new', 'lampu', 'gamis', 'box', 'plastik', 'hijab', 'b', 'karakter', 'grosir', 'dompet', 'serbaguna', 'white', 'bag', 'korea', 'hp', 'sabun', 'buku', 'jilbab', 'sarung', 'lip', 'dengan', 'kain', 'jumbo', 'gel', 'sandal', 'talus', 'botol', 'dress', 'paket', 'jam', 'kotak', 'color', 'madu', 'super', 'hitam', 'ready', 'asli', 'portable', 'mobil', 'holder', 'kulit', 'iphone', 'bunga', 'body', 'kacamata', 'samsung', 'soft', 'black', 'terlaris', 'face', 'gram', 'putih', 'oil', 'hair', 'minyak', 'size', 'motor', 'bluetooth', 'kabel', 'tahun', 'acne', 'l', 'katun', 'charger', 'pink', 'pendek', 'dewasa', 'c', 'beauty', 'silikon', 'oppo', 'gold', 'matte', 'di', 'water', 'obat', 'stainless', 'pembersih', 'whitening', 'topi', 'karet', 'glow', 'toner', 'cover', 'instan', 'mukena', 'koko', 'susu', 'kg', 'full', 'selempang', 'cm', 'mandi', 'pant', 'headset', 'lipat', 'model', 'facial', 'ukuran', 'cuci', 'terbaru', 'perempuan', 'digital', 'muslim', 'care', 'bulu', 'kucing', 'light', 'dinding', 'extra', 'mata', 'max', 'speaker', 'refill', 'skin', 'bubble', 'micro', 'lotion', 'wardah', 'hand', 'cat', 'asi', 'rajut', 'earphone', 'kertas', 'vitamin', 'note', 'ransel', 'powder', 'xiaomi', 'kaca', 'kid', 'waterproof', 'gantungan', 'joyko', 'sweater', 'resmi', 'puzzle', 'jean', 'wash', 'silicone', 'dalam', 'pensil', 'lucu', 'makanan', 'bayar', 'busa', 'quality', 'dapur', 'sepeda', 'besar', 'bola', 'tablet', 'sachet', 'pakaian', 'jelly', 'khimar', 'pisau', 'spray', 'high', 'setelan', 'stiker', 'kecil', 'biru', 'natural', 'g', 'kemasan', 'coklat', 'lengan', 'kit', 'softlens', 'sheet', 'shower', 'garansi', 'bra', 'cair', 'bumbu', 'make', 'milk', 'pouch', 'blender', 'pelindung', 'brush', 'kosmetik', 'sport', 'kipas', 'tidur', 'realme', 'best', 'food', 'tanpa', 'casing', 'gantung', 'type', 'phone', 'non', 'fresh', 'universal', 'merah', 'buah', 'organik', 'redmi', 'tebal', 'filter', 'bandana', 'series', 'pigeon', 'magic', 'harga', 'ring', 'distro', 'xl', 'herbal', 'serut', 'men', 'gigi', 'kartu', 'hias', 'ikan', 'tissue', 'kuas', 'pen', 'sneaker', 'handuk', 'ikat', 'soap', 'wireless', 'dekorasi', 'sale', 'meter', 'kapsul', 'parfum', 'blue', 'double', 'sikat', 'angin', 'piyama', 'robot', 'pack', 'card', 'batam', 'glass', 'mie', 'n', 'wrap', 'kayu', 'tahan', 'tunik', 'casual', 'ala', 'jepit', 'jaket', 'sticker', 'fast', 'bali', 'stand', 'mi', 'halus', 'steel', 'kuning', 'inch', 'lembut', 'baru', 'selfie', 'shampoo', 'elektrik', 'bantal', 'seller', 'piring', 'foam', 'cewek', 'daily', 'dot', 'daster', 'vivo', 'essence', 'couple', 'kurma', 'sd', 'emina', 'varian', 'lap', 'travel', 'multifungsi', 'bottle', 'hoodie', 'star', 'organizer', 'makeup', 'ultra', 'hn', 'data', 'tanaman', 'sponge', 'packing', 'garnier', 'telur', 'aksesoris', 'hot', 'kering', 'baterai', 'brightening', 'kunci', 'bass', 'kekinian', 'storage', 'mic', 'pot', 'viva', 'laki', 'badan', 'strip', 'lemon', 'tea', 'kerudung', 'makan', 'sendok', 'bening', 'bedak', 'perfect', 'susun', 'green', 'mesin', 'simple', 'bulat', 'collagen', 'transparan', 'cotton', 'tape', 'edukasi', 'pemutih', 'flower', 'al', 'atasan', 'liquid', 'pad', 'day', 'handphone', 'besi', 'cowok', 'night', 'sugar', 'pop', 'rayon', 'dark', 'kepala', 'halal', 'clip', 'slip', 'love', 'real', 'part', 'jerawat', 'cleanser', 'balm', 'implora', 'maxi', 'snail', 'sorex', 'balon', 'multi', 'panas', 'syari', 'nano', 'sendal', 'basah', 'olahraga', 'cable', 'shield', 'pelangsing', 'smart', 'goreng', 'stock', 'paper', 'rumah', 'boneka', 'batik', 'gratis', 'maxy', 'hijau', 'tint', 'cup', 'rasa', 'timbangan', 'scarlett', 'tisu', 'kamar', 'kemeja', 'cussons', 'somebymi', 'otg', 'per', 'lipstick', 'usia', 'audio', 'panci', 'beli', 'tempered', 'bentuk', 'corona', 'organic', 'jakarta', 'one', 'tutup', 'scuba', 'slim', 'bergo', 'pump', 'spidol', 'penutup', 'mm', 'handsfree', 'kopi', 'pasang', 'eye', 'top', 'berkualitas', 'game', 'gie', 'ayam', 'listrik', 'kombinasi', 'uk', 'lapis', 'cairan', 'mika', 'kamera', 'pocket', 'pinggang', 'training', 'bubur', 'powerbank', 'tulis', 'candy', 'kran', 'bando', 'kanebo', 'diamond', 'uv', 'bintang', 'softcase', 'belt', 'mix', 'cleansing', 'madame', 'renda', 'aloe', 'vera', 'hujan', 'kitchen', 'nature', 'cute', 'adapter', 'single', 'gurita', 'sekolah', 'ongkir', 'lion', 'wipe', 'gula', 'stereo', 'roll', 'lightening', 'lembar', 'glossy', 'impor', 'niacin', 'brown', 'crack', 'girl', 'nivea', 'dual', 'booster', 'battery', 'navy', 'adidas', 'watch', 'selang', 'square', 'teh', 'sandisk', 'aqua', 'hamil', 'layar', 'kualitas', 'carbon', 'king', 'xr', 'plain', 'long', 'baso', 'keren', 'starter', 'instant', 'power', 'tool', 'vanila', 'charging', 'ali', 'bawang', 'silver', 'slot', 'basic', 'smartphone', 'cake', 'bts', 'pore', 'uang', 'sanitizer', 'skincare', 'jahe', 'teether', 'cargo', 'jamur', 'healthy', 'little', 'creamy', 'dry', 'car', 'unicorn', 'kulkas', 'sajadah', 'clear', 'onemed', 'payung', 'bandung', 'jas', 'apple', 'gb', 'ice', 'red', 'flip', 'kantong', 'sambungan', 'aquarium', 'ecer', 'screen', 'catok', 'bordir', 'nyamuk', 'eyebrow', 'classic', 'tripod', 'big', 'angka', 'bulan', 'kelambu', 'korset', 'gambar', 'minum', 'band', 'strawberry', 'prime', 'kartun', 'avoskin', 'shop', 'mpasi', 'm', 'rubber', 'rok', 'mangkok', 'pulpen', 'galaxy', 'sling', 'tinggi', 'e', 'tambahan', 'grade', 'pijat', 'popok', 'tote', 'spons', 'marcks', 'style', 'watt', 'pencil', 'microphone', 'back', 'gelas', 'toy', 'bb', 'adem', 'elastis', 'waistbag', 'royal', 'pakai', 'shoe', 'flat', 'warni', 'safety', 'kancing', 'peel', 'mixer', 'cantik', 'nipple', 'ada', 'thailand', 'yuja', 'ac', 'fan', 'crayon', 'pixy', 'normal', 'man', 'fit', 'crystal', 'perekat', 'backpack', 'cermin', 'touch', 'keranjang', 'hanger', 'perlak', 'murni', 'lokal', 'ulang', 'kantor', 'keju', 'retro', 'unik', 'junior', 'niqab', 'tempel', 'lengkap', 'pelancar', 'jack', 'cap', 'miracle', 'tv', 'moisturizing', 'kasur', 'salep', 'beras', 'jersey', 'bagus', 'rainbow', 'vanilla', 'ply', 'wall', 'pan', 'satuan', 'jepang', 'se', 'hat', 'kaldu', 'emas', 'hook', 'tipe', 'bucket', 'dua', 'kue', 'support', 'satu', 'electric', 'scrub', 'sweety', 'bh', 'pure', 'mawar', 'la', 'u', 'hd', 'salur', 'overall', 'rice', 'collection', 'outdoor', 'dingin', 'nyala', 'bakteri', 'pvc', 'tingkat', 'kawat', 'keset', 'neo', 'sauce', 'drink', 'snack', 'mist', 'xxl', 'mutiara', 'knob', 'merk', 'antiseptik', 'pu', 'edition', 'keran', 'blackhead', 'go', 'speed', 'cleaner', 'liter', 'loyang', 'pemisah', 'flag', 'krim', 'kpop', 'frisian', 'telinga', 'gaming', 'concealer', 'bel', 'glove', 'sim', 'mio', 'animal', 'head', 'laptop', 'bright', 'reno', 'kelas', 'sock', 'highlighter', 'live', 'cukur', 'nail', 'headphone', 'avail', 'egg', 'penjepit', 'running', 'lamp', 'android', 'creme', 'fish', 'de', 'gojek', 'masak', 'gaya', 'futsal', 'toothbrush', 'muat', 'te', 'stick', 'sprei', 'satin', 'reguler', 'balita', 'puff', 'ankle', 'bear', 'voal', 'smile', 'deep', 'souvenir', 'spon', 'perlengkapan', 'perawatan', 'foil', 'tema', 'pakistan', 'cetakan', 'gelang', 'miyako', 'wet', 'line', 'fruit', 'garpu', 'plisket', 'lakban', 'pintu', 'microfiber', 'made', 'casio', 'huki', 'micellar', 'legging', 'home', 'r', 'ace', 'wallpaper', 'tinta', 'mamypoko', 'cd', 'print', 'turkey', 'chamois', 'leher', 'lem', 'segi', 'anjing', 'busui', 'renceng', 'paris', 'philip', 'gift', 'level', 'foundation', 'nacific', 'nike', 'woman', 'aci', 'good', 'bubuk', 'jar', 'aromatherapy', 'marker', 'palmerhaus', 'batre', 'family', 'empeng', 'wadah', 'colour', 'muka', 'tk', 'soothing', 'cheek', 'joger', 'kuat', 'sensi', 'joystick', 'toples', 'lipcream', 'buy', 'moisture', 'saringan', 'kolam', 'converse', 'solution', 'pita', 'rose', 'pasta', 'step', 'sealer', 'helm', 'short', 'nestle', 'tpu', 'daun', 'smooth', 'custom', 'pashmina', 'pengait', 'bio', 'ram', 'adaptor', 'outer', 'safe', 'propolis', 'latte', 'huruf', 'resleting', 'virus', 'gamepad', 'cincin', 'batu', 'mg', 'gorden', 'innisfree', 'hc', 'mouse', 'yang', 'mat', 'chil', 'kitten', 'sweet', 'clean', 'gari', 'roda', 'oleh', 'sayur', 'medis', 'pilih', 'sarang', 'gea', 'cooky', 'snowman', 'strap', 'zwitsal', 'penyimpanan', 'semata', 'korean', 'deodorant', 'liptint', 'pentil', 'ban', 'putar', 'cloth', 'flash', 'newborn', 'lulur', 'moscrepe', 'sein', 'centella', 'rempel', 'velvet', 'aman', 'laundry', 'hdmi', 'diskon', 'roti', 'tipi', 'iglove', 'protection', 'camera', 'muslimah', 'doraemon', 'baseball', 'persegi', 'biji', 'donat', 'antiseptic', 'layer', 'toothpaste', 'charge', 'breast', 'total', 'kambing', 'rack', 'coffee', 'produk', 'sudah', 'nasi', 'bibir', 'morymony', 'ruangan', 'vaseline', 'hanasui', 'squeeze', 'sehat', 'purbasari', 'fuze', 'cadar', 'tabur', 'khas', 'get', 'lama', 'belakang', 'tulang', 'unisex', 'punggung', 'anting', 'palsu', 'charcoal', 'round', 'random', 'hiasan', 'sambal', 'chino', 'zaitun', 'branded', 'waist', 'jeruk', 'ke', 'control', 'gluta', 'lactogrow', 'lubang', 'kesehatan', 'foto', 'ibu', 'penghilang', 'treatment', 'share', 'mudah', 'bracket', 'haji', 'menyusui', 'oval', 'tzuki', 'metal', 'roller', 'book', 'lemari', 'hard', 'smd', 'berdiri', 'play', 'kaleng', 'praktis', 'tip', 'cheese', 'sekat', 'spf', 'list', 'standing', 'capsule', 'sakura', 'order', 'biskuit', 'bonus', 'eyeshadow', 'senter', 'bite', 'quran', 'blackmores', 'yummy', 'baggy', 'malam', 'bolde', 'yoga', 'komedo', 'kupluk', 'exp', 'telon', 'uno', 'pajangan', 'jarum', 'cetaphil', 'wolfis', 'spatula', 'ink', 'dll', 'store', 'lock', 'munafie', 'pasir', 'memory', 'seat', 'aquascape', 'planet', 'everwhite', 'kemiri', 'lilin', 'loreal', 'slimming', 'jepitan', 'sedang', 'pengganti', 'lcd', 'external', 'blossom', 'habbatussauda', 'lady', 'alami', 'aseptic', 'kehamilan', 'school', 'boy', 'cartoon', 'gt', 'semi', 'indonesia', 'midi', 'ditempat', 'detergent', 'asus', 'pemotong', 'photo', 'cooling', 'lari', 'yard', 'pengharum', 'hari', 'vintage', 'art', 'gunting', 'barang', 'honey', 'burung', 'heel', 'kerja', 'macaron', 'yellow', 'loose', 'beautetox', 'pastel', 'paint', 'rorec', 'pet', 'receiver', 'mickey', 'shoulder', 'handbag', 'pewangi', 'musik', 'konektor', 'ciput', 'sedotan', 'tshirt', 'mama', 'medium', 'shampo', 'kapas', 'tudung', 'nama', 'hello', 'saus', 'analog', 'bamboe', 'manis', 'massage', 'spot', 'spion', 'dicuci', 'bioaqua', 'atau', 'frozen', 'penyangga', 'musim', 'magnet', 'jari', 'gigitan', 'knife', 'vooc', 'leather', 'truecica', 'liner', 'cokelat', 'debu', 'mirror', 'etawa', 'pa', 'pena', 'laser', 'safi', 'happy', 'cushion', 'spiderman', 'mint', 'block', 'noda', 'lipstik', 'inner', 'poko', 'mamy', 'blush', 'boxer', 'diy', 'aluminium', 'ex', 'lusinan', 'ajwa', 'apel', 'ch', 'chopper', 'slempang', 'basket', 'bolak', 'bendera', 'tube', 'pewarna', 'earloop', 'hit', 'terapi', 'pembesar', 'kitty', 'herborist', 'bpa', 'syubbanul', 'muslimin', 'azzahir', 'yamaha', 'dari', 'moisturizer', 'kupu', 'kuku', 'matic', 'diet', 'cologne', 'visor', 'grip', 'gepeng', 'kulot', 'grey', 'kardus', 'volly', 'latex', 'maroon', 'obeng', 'sticky', 'minuman', 'palette', 'repair', 'golden', 'syar', 'morinaga', 'aux', 'matras', 'baca', 'sudut', 'toilet', 'haidi', 'socket', 'slop', 'kompor', 'jempol', 'crown', 'sasa', 'edisi', 'item', 'nylon', 'vietnam', 'anticrack', 'soflens', 'hidung', 'korek', 'miranda', 'balik', 'towel', 'potter', 'lambung', 'ball', 'harry', 'merek', 'leaf', 'pembalut', 'titanium', 'maternity', 'rangka', 'finger', 'age', 'rope', 'pusat', 'arloji', 'latihan', 'mangkuk', 'panda', 'maryam', 'beat', 'gym', 'wedge', 'j', 'jogger', 'desktop', 'selimut', 'olive', 'sunglass', 'beruang', 'cooker', 'pintar', 'brightly', 'minnie', 'seri', 'variasi', 'teplek', 'hydrating', 'alquran', 'zipper', 'sari', 'acnol', 'cp', 'remote', 'siang', 'nugrahati', 'cardigan', 'hetty', 'stok', 'sophie', 'protector', 'peralatan', 'modul', 'hq', 'kang', 'jbl', 'pi', 'tws', 'theraskin', 'dettol', 'arab', 'eau', 'kalung', 'jadi', 'klairs', 'chanel', 'rawis', 'ampuh', 'display', 'pedas', 'parfume', 'kado', 'perangkap', 'herb', 'berat', 'printing', 'massager', 'sleek', 'lv', 'creamer', 'rantai', 'canon', 'rattle', 'sleeping', 'tile', 'peci', 'silicon', 'spandek', 'conditioner', 'totole', 'music', 'chibi', 'sporty', 'pelembab', 'formal', 'mom', 'bersih', 'abu', 'product', 'pantai', 'wooden', 'hemat', 'kode', 'door', 'meja', 'bell', 'mmc', 'miraculous', 'memo', 'spa', 'cerelac', 'revisi', 'kecantikan', 'watercolor', 'container', 'tirai', 'orange', 'fygalery', 'hadiah', 'tematik', 'tembok', 'bebas', 'matahari', 'ampoule', 'grinder', 'bedong', 'gore', 'wide', 'kolor', 'tradisional', 'goon', 'segitiga', 'tutu', 'skmei', 'turban', 'yaris', 'hose', 'modern', 'sasimi', 'life', 'dudukan', 'v', 'cartridge', 'keyboard', 'smartwatch', 'bedcover', 'touchscreen', 'sprayer', 'shannen', 'wisdom', 'tatakan', 'stagen', 'fix', 'nanas', 'sisi', 'keripik', 'ion', 'bar', 'karbon', 'vario', 'flek', 'niacinamide', 'lego', 'solar', 'canola', 'kelinci', 'press', 'isolasi', 'ipi', 'daya', 'serat', 'sky', 'surabaya', 'penahan', 'soul', 'point', 'jokowi', 'fleksibel', 'senka', 'radio', 'evangeline', 'w', 'polyester', 'pubg', 'trigger', 'sbmptn', 'martin', 'utbk', 'kitaco', 'almond', 'saji', 'sun', 'tie', 'anyam', 'pesta', 'metode', 'nibras', 'ultimate', 'washable', 'lentur', 'balance', 'siap', 'kiloan', 'jemuran', 'mei', 'small', 'female', 'oem', 'origin', 'lameila', 'auto', 'ting', 'eyelash', 'perhiasan', 'jagung', 'madagascar', 'selop', 'cosmetic', 'jumper', 'advance', 'brownie', 'potato', 'kanvas', 'logo', 'ever', 'koin', 'shopee', 'jerapah', 'meaning', 'search', 'wallet', 'edukatif', 'gatal', 'tumblr', 'grid', 'dapat', 'citizen', 'cewe', 'sni', 'pict', 'retinol', 'suka', 'singlet', 'kentang', 'busana', 'perut', 'hamster', 'aneka', 'lx', 'printer', 'lahir', 'gigit', 'buaya', 'bleaching', 'buble', 'paseo', 'cooler', 'nova', 'daging', 'tabita', 'manual', 'bibit', 'sensor', 'tenda', 'hifi', 'supra', 'jegging', 'fiber', 'baselayer', 'tongkat', 'renang', 'guling', 'active', 'uht', 'shock', 'mx', 'bee', 'soya', 'voli', 'gas', 'avenger', 'american', 'livi', 'radiasi', 'pompa', 's', 'base', 'salt', 'shirt', 'belajar', 'totebag', 'catokan', 'tonic', 'headloop', 'separator', 'desain', 'class', 'banyak', 'grab', 'luka', 'pasca', 'langsung', 'defy', 'fry', 'meteran', 'eco', 'formula', 'venus', 'med', 'stang', 'rk', 'expert', 'refining', 'alumunium', 'kacang', 'floral', 'neck', 'instaperfect', 'aha', 'hak', 'kurta', 'balloon', 'turki', 'noodle', 'muda', 'garlic', 'drill', 'bha', 'flexible', 'id', 'acrylic', 'dnm', 'cherry', 'afi', 'lvn', 'boyfriend', 'twin', 'beige', 'wax', 'kembali', 'slingbag', 'senar', 'thermal', 'wild', 'saku', 'tetes', 'low', 'microsd', 'farma', 'chocolate', 'bonsai', 'lensa', 'bajakah', 'crocodile', 'contour', 'khusus', 'ansania', 'gendongan', 'reseller', 'ec', 'tidak', 'manset', 'salmon', 'platinum', 'magnifier', 'kursi', 'coil', 'mag', 'stationary', 'enlarge', 'stella', 'delmonte', 'wire', 'eyeliner', 'money', 'crop', 'jill', 'booty', 'intensive', 'udang', 'mitten', 'tanggung', 'pacifier', 'hijang', 'salsa', 'cardy', 'sukari', 'crunchy', 'oat', 'abaya', 'feeder', 'jahanam', 'penjernih', 'vacuum', 'sumpit', 'rias', 'dynamatte', 'serba', 'giant', 'th', 'eucalyptus', 'gorilla', 'pod', 'club', 'oversize', 'whitemilky', 'everyday', 'tone', 'seen', 'ovomaltine', 'scale', 'popsocket', 'selsun', 'monalisa', 'bbq', 'pasmina', 'spaghetti', 'depan', 'wink', 'stelan', 'nayz', 'compact', 'eceran', 'ear', 'candle', 'gen', 'ii', 'secret', 'lachel', 'palmer', 'minimalis', 'cantolan', 'queen', 'mitu', 'kemendikbud', 'drive', 'cheddar', 'prochiz', 'urut', 'flop', 'syb', 'therapy', 'butter', 'advanced', 'kerupuk', 'babyterry', 'kasual', 'merry', 'remover', 'handle', 'freshcare', 'ketombe', 'kirim', 'covered', 'got', 'ped', 'mizan', 'hada', 'hl', 'flu', 'cessa', 'aktif', 'fair', 'board', 'metalik', 'tikus', 'sharp', 'badminton', 'asam', 'sepasang', 'acnederm', 'cha', 'quick', 'mascara', 'extension', 'labo', 'controller', 'penumbuh', 'sarimbit', 'superhero', 'solid', 'ortuseight', 'cr', 'member', 'tree', 'cut', 'lebar', 'pick', 'gokujyun', 'birthday', 'sabyan', 'tolak', 'makarizo', 'complete', 'paud', 'gabag', 'teflon', 'frame', 'call', 'bank', 'mooi', 'semprotan', 'wifi', 'epson', 'bowl', 'stain', 'deluxe', 'nuvo', 'inpods', 'smp', 'foldable', 'terjemah', 'dye', 'infrared', 'gamat', 'repack', 'qnc', 'jati', 'dongle', 'boot', 'cereal', 'cupang', 'urban', 'cacing', 'sgm', 'aloevera', 'frosted', 'poupeepou', 'cepat', 'cosmos', 'sata', 'dispenser', 'kets', 'ranger', 'taman', 'sonic', 'tubuh', 'comfort', 'umur', 'scoopy', 'fitness', 'iqro', 'jamu', 'gunung', 'goni', 'index', 'axis', 'oh', 'coating', 'removal', 'campur', 'ipad', 'variant', 'umbrella', 'empat', 'turtle', 'chic', 'semua', 'excel', 'darah', 'sf', 'studio', 'bare', 'tiger', 'muhammad', 'pole', 'frother', 'palet', 'shalat', 'polka', 'tulipe', 'ulir', 'kintakun', 'japanese', 'kait', 'palm', 'tisue', 'dijamin', 'jupiter', 'map', 'pencukur', 'manohara', 'colagen', 'dzikir', 'barbeque', 'viral', 'lunch', 'oxford', 'old', 'spesial', 'cl', 'melifera', 'mega', 'elmo', 'combed', 'pertamaku', 'port', 'hardcase', 'house', 'tiga', 'honda', 'mewarnai', 'pustaka', 'oven', 'xxxl', 'mp', 'belia', 'remaja', 'diaper', 'prewalker', 'pearl', 'gembok', 'handsanitizer', 'beng', 'selebgram', 'wafer', 'seamless', 'serbuk', 'argan', 'clodi', 'lovely', 'two', 'grand', 'citra', 'claris', 'syal', 'masa', 'grill', 'jok', 'humidifier', 'biore', 'pengering', 'label', 'cayman', 'alkohol', 'blackout', 'easy', 'child', 'forever', 'serap', 'cedea', 'asiatica', 'fake', 'army', 'young', 'splash', 'thermostat', 'skinny', 'mobile', 'dslr', 'nota', 'baellerry', 'raket', 'refil', 'henna', 'essential', 'muncul', 'stabilo', 'border', 'disposable', 'elegan', 'benton', 'samping', 'purpose', 'drop', 'polkadot', 'sexy', 'jersy', 'slo', 'lutut', 'drawing', 'fanbo', 'rexona', 'samyunwan', 'strobo', 'wastafel', 'nyaman', 'santai', 'pond', 'doll', 'koper', 'piece', 'lt', 'choco', 'fitnes', 'avent', 'nafsu', 'ompol', 'bubblewrap', 'freeman', 'sholat', 'ratu', 'shabu', 'stripe', 'arrival', 'asah', 'pakan', 'fragrance', 'penggaris', 'lavender', 'ocean', 'breathable', 'stop', 'penggiling', 'kontak', 'kikkoman', 'lav', 'quartz', 'rangu', 'artificial', 'po', 'xt', 'vivan', 'qc', 'ruang', 'jahit', 'oxone', 'herba', 'exo', 'pinset', 'gitar', 'cowo', 'promina', 'sekali', 'knit', 'tombol', 'aroma', 'batang', 'cone', 'ptt', 'plas', 'tee', 'hewan', 'dus', 'limited', 'remove', 'benih', 'mui', 'straw', 'acak', 'watchkite', 'lakme', 'softex', 'lol', 'jet', 'kodachi', 'sensational', 'handgrip', 'kuantitatif', 'tahu', 'penelitian', 'exclusive', 'adult', 'cool', 'senam', 'simpel', 'pe', 'bolt', 'bunny', 'kualitatif', 'cosrx', 'cina', 'durian', 'sma', 'hole', 'sugiyono', 'mosehat', 'ponytail', 'deskripsi', 'mma', 'bawah', 'kerajinan', 'powercore', 'kamilla', 'anker', 'zoo', 'mentah', 'clipper', 'lebih', 'gesper', 'zilvia', 'fygaleryjakarta', 'lebaran', 'pengecil', 'maxkenzo', 'awan', 'probiotic', 'dance', 'gloss', 'shenar', 'pahlawan', 'kemei', 'aisyah', 'anycast', 'way', 'chrono', 'use', 'blemish', 'bumper', 'nice', 'rompi', 'thinwall', 'toyobo', 'mamabear', 'pg', 'design', 'maze', 'sink', 'bebelove', 'kerak', 'in', 'router', 'disc', 'tin', 'snobby', 'milo', 'spandex', 'lantai', 'bestseller', 'ciptadent', 'alarm', 'mode', 'tahap', 'jendela', 'paste', 'delta', 'soflen', 'koki', 'kimono', 'like', 'professional', 'rgb', 'peristaltic', 'preparation', 'odol', 'hpai', 'mahar', 'sabut', 'packingan', 'bl', 'komplit', 'pengaduk', 'ivory', 'supple', 'degree', 'master', 'fullset', 'k', 'painting', 'capacity', 'garam', 'kazel', 'accessory', 'rsb', 'himalaya', 'testpack', 'petal', 'underwear', 'kenmaster', 'timbul', 'bungkus', 'pembuat', 'kail', 'push', 'kukus', 'santri', 'tapioka', 'thin', 'pelentik', 'pirate', 'oneck', 'bobal', 'io', 'slit', 'cocok', 'natur', 'autocheck', 'better', 'clp', 'revitalift', 'konicare', 'rom', 'sirah', 'unit', 'etude', 'celup', 'lighting', 'braided', 'vanesha', 'joyseus', 'segiempat', 'panggangan', 'zotek', 'coffe', 'fitmee', 'pembuka', 'mazola', 'lidah', 'shabby', 'ninio', 'warp', 'omiland', 'button', 'suara', 'montessori', 'crayola', 'karpet', 'thai', 'wang', 'cart', 'derajat', 'cord', 'bk', 'tango', 'aging', 'plat', 'garuda', 'tissu', 'pha', 'lemonilo', 'vip', 'fungsi', 'tuspin', 'miniso', 'lactacyd', 'bakaran', 'giga', 'tobot', 'tps', 'tally', 'tenaga', 'apd', 'mop', 'jilid', 'kutek', 'honeycomb', 'baseus', 'infallible', 'bebek', 'pengikat', 'tanktop', 'goggle', 'wajan', 'dara', 'explorer', 'breylee', 'dora', 'gsm', 'akg', 'piano', 'kokop', 'davis', 'z', 'perdana', 'pencuci', 'jsk', 'narzo', 'tangga', 'kurikulum', 'jimshoney', 'bigsize', 'allsize', 'pinus', 'kutuk', 'nescafe', 'handsock', 'adonan', 'penyambung', 'wok', 'dapurcantik', 'disinfectan', 'kelfi', 'fine', 'viscose', 'modis', 'skipping', 'include', 'glowing', 'faber', 'castell', 'hdd', 'restok', 'infinix', 'stylus', 'whip', 'protect', 'ceramic', 'naturgo', 'mito', 'pressure', 'abc', 'teko', 'pengaman', 'keratin', 'kali', 'rca', 'blending', 'av', 'kaoskaki', 'sac', 'do', 'tooth', 'lavalier', 'walker', 'veger', 'kotor', 'accesories', 'boya', 'oles', 'bud', 'menghilangkan', 'ed', 'dear', 'versi', 'casan', 'kirana', 'aion', 'daisy', 'breastmilk', 'standard', 'ca', 'kuping', 'batrai', 'orthodontic', 'jalu', 'dandruff', 'lifebuoy', 'hero', 'penghemat', 'slicer', 'butterfly', 'ilmu', 'taplak', 'kun', 'setrika', 'solo', 'tanah', 'pentul', 'belcube', 'cakram', 'ahm', 'empuk', 'teatree', 'liontin', 'mineral', 'selection', 'kerincingan', 'duduk', 'goat', 'bukan', 'fc', 'twotone', 'berkancing', 'chrome', 'rd', 'rasfur', 'cappucino', 'otak', 'emboss', 'kwalitas', 'nmax', 'rowling', 'antem', 'soundcard', 'wiper', 'deli', 'minus', 'gray', 'ssd', 'waxing', 'grain', 'paling', 'first', 'youth', 'syria', 'aerator', 'denim', 'wudhu', 'kolagen', 'lightning', 'hotel', 'lusin', 'ukir', 'msg', 'pillow', 'aki', 'luar', 'mah', 'juice', 'sony', 'lifree', 'konveksi', 'french', 'material', 'madina', 'niqob', 'phyto', 'mola', 'panggang', 'bakso', 'lace', 'slice', 'karya', 'cot', 'gemuk', 'converter', 'cangkir', 'tail', 'mane', 'tactical', 'rdl', 'ktc', 'colokan', 'laneige', 'ginger', 'komputer', 'keramik', 'steamer', 'lagi', 'panty', 'invisible', 'sampai', 'batuk', 'seven', 'karat', 'gentle', 'wrapping', 'buffback', 'madam', 'cabe', 'clock', 'jubah', 'nigellive', 'sea', 'mattecentric', 'gaun', 'brow', 'teen', 'splitter', 'effect', 'vlog', 'cahaya', 'hardware', 'jeli', 'lurus', 'si', 'parsley', 'pohon', 'radiant', 'key', 'san', 'papan', 'maskyourneeds', 'sup', 'osm', 'lb', 'bm', 'tabung', 'bau', 'request', 'insta', 'vlogger', 'stretch', 'jacket', 'pull', 'troy', 'pelangi', 'rolled', 'sanitizing', 'time', 'kuncir', 'wbb', 'kunciran', 'smule', 'sinar', 'second', 'lemak', 'cdr', 'fleece', 'mesh', 'living', 'diameter', 'loreng', 'papaya', 'spring', 'membuat', 'benassi', 'swoosh', 'mediheal', 'rem', 'nb', 'party', 'berry', 'acid', 'jumsuit', 'pacific', 'antibacterial', 'sleepwear', 'leon', 'mild', 'bolu', 'zebra', 'suit', 'rib', 'topsonic', 'calista', 'sw', 'pony', 'kristal', 'omgendut', 'hokyfashion', 'bath', 'kw', 'tawon', 'guninco', 'acara', 'indomie', 'paku', 'perasan', 'purifier', 'cocoa', 'pegal', 'nyeri', 'otot', 'connector', 'sisir', 'twist', 'mango', 'kenzi', 'replika', 'rich', 'pastan', 'nude', 'maag', 'ragan', 'hing', 'aromaterapi', 'wangi', 'sm', 'kotoran', 'nastar', 'peach', 'serena', 'nafisa', 'baking', 'kental', 'kuda', 'guan', 'video', 'sutra', 'taffware', 'chip', 'menyala', 'hanging', 'wijen', 'album', 'musical', 'bos', 'hikmah', 'najibah', 'mr', 'tempelan', 'oblong', 'salju', 'rechargeable', 'dibongkar', 'market', 'cutting', 'aktivitas', 'regulator', 'terry', 'pengiris', 'lc', 'plug', 'dongker', 'pemeras', 'saffron', 'blueband', 'raincoat', 'sablon', 'bohlam', 'hcg', 'setting', 'republic', 'test', 'cbnk', 'aksen', 'terusan', 'penanda', 'sleeve', 'petang', 'wear', 'earpods', 'safron', 'ums', 'seduh', 'shine', 'saos', 'kecap', 'tropicana', 'el', 'ashley', 'tespek', 'logu', 'ceruty', 'pagi', 'sit', 'chocowhite', 'shimmer', 'stempel', 'mewah', 'harian', 'klip', 'medical', 'gilingan', 'mikro', 'kuah', 'imitasi', 'rinso', 'primerose', 'tasbih', 'joju', 'umroh', 'milky', 'meat', 'sofa', 'mz', 'lens', 'mulut', 'airdots', 'vr', 'bronzer', 'gudang', 'tentakel', 'amh', 'goldzan', 'traveling', 'atk', 'pp', 'mosaic', 'bc', 'trigona', 'thermometer', 'detox', 'adjustable', 'thumbhole', 'checkerboard', 'temperature', 'diving', 'sapi', 'hiking', 'plong', 'sepakbola', 'tauhid', 'pembatas', 'desinfektan', 'jual', 'summer', 'suction', 'cutter', 'content', 'eagle', 'steam', 'jaring', 'anggur', 'madinah', 'rumput', 'tgb', 'candel', 'dog', 'jay', 'folding', 'asahan', 'surmene', 'ggs', 'large', 'kalkulator', 'api', 'livia', 'akuarium', 'miki', 'friend', 'vixal', 'kutu', 'gps', 'dommo', 'pilihan', 'hajar', 'wrench', 'lontong', 'saudia', 'laut', 'siku', 'ringan', 'vinci', 'voopoo', 'mark', 'stir', 'dr', 'combo', 'dino', 'gtman', 'atm', 'japan', 'agree', 'mahkota', 'calcimag', 'cardi', 'canin', 'delfi', 'trendy', 'greenleaf', 'sabuk', 'ld', 'stuff', 'megahome', 'sala', 'ediko', 'oedo', 'prone', 'exolia', 'taste', 'princess', 'tsum', 'abg', 'sesame', 'reciver', 'selai', 'polyurethane', 'rest', 'clay', 'intense', 'vit', 'teddy', 'membaca', 'ldg', 'dairy', 'otaru', 'pegangan', 'nissa', 'antibakteri', 'talking', 'kapstok', 'athlon', 'fringe', 'disney', 'sinergi', 'nautic', 'urai', 'action', 'cherrybabykidsshop', 'tinkle', 'fliptop', 'nourish', 'curah', 'nipis', 'thermos', 'alphabet', 'pisah', 'usa', 'pabrik', 'udara', 'pepsodent', 'enfagrow', 'segel', 'crushlicious', 'lazypod', 'pertumbuhan', 'sapu', 'demam', 'kondangan', 'stell', 'bergaransi', 'shoelace', 'hipseat', 'melon', 'carrier', 'otwlangsing', 'gramasi', 'pinky', 'pisang', 'volumizer', 'nr', 'fassystore', 'pampers', 'bo', 'pb', 'blended', 'drl', 'element', 'sajiku', 'colorfull', 'difuser', 'avometer', 'monster', 'devita', 'pulen', 'langsing', 'menyerap', 'mede', 'waterproff', 'titik', 'pengiriman', 'inggris', 'eyeglases', 'cah', 'cabang', 'bekas', 'xtra', 'harajuku', 'mak', 'zt', 'riche', 'kutung', 'heart', 'multitester', 'rate', 'piston', 'snap', 'bella', 'pre', 'regular', 'skuter', 'pekat', 'stone', 'rb', 'hyaluronic', 'pengatur', 'hansaplast', 'reseler', 'alpha', 'philosophy', 'hawaii', 'raga', 'ekspedisi', 'lugano', 'dusty', 'moss', 'fever', 'bogota', 'kimchi', 'slipper', 'edufuntoys', 'sparkling', 'malaysia', 'sleepsuit', 'imut', 'weker', 'carex', 'kinoki', 'herbadiabs', 'van', 'koyo', 'tottori', 'ipoh', 'elpino', 'jumping', 'peluntur', 'mountoya', 'rohto', 'check', 'motip', 'gagang', 'kelapa', 'terkutuk', 'link', 'cursed', 'suhu', 'odourless', 'otoped', 'multipurpose', 'rinnai', 'rolling', 'panah', 'shiny', 'cumi', 'mesir', 'relaksasi', 'pengencang', 'korma', 'ho', 'muicer', 'counter', 'alice', 'wb', 'swab', 'charm', 'sekai', 'johnson', 'pregnancy', 'rais', 'ungu', 'cleaning', 'shafira', 'wahyu', 'huamei', 'runner', 'oshkosh', 'nyu', 'buat', 'dashboard', 'gramedia', 'dekker', 'ksiecnalb', 'spec', 'cpe', 'tplink', 'hannochs', 'keriting', 'gerigi', 'trimer', 'semprot', 'naturein', 'driver', 'mincer', 'refleksi', 'masuk', 'tepi', 'mood', 'jours', 'nagita', 'tunic', 'sali', 'toshiba', 'bolpenku', 'cantika', 'tikap', 'sunnersta', 'ling', 'nourishing', 'trunk', 'halo', 'saliha', 'marmer', 'shi', 'parka', 'vegan', 'jz', 'fire', 'potong', 'kereta', 'vitamer', 'biker', 'satellite', 'jinten', 'bed', 'earbuds', 'luscious', 'akrilik', 'pengiling', 'ohm', 'sop', 'centong', 'luna', 'knite', 'dazling', 'sidu', 'clara', 'eduka', 'tropical', 'tr', 'giotto', 'starmoon', 'sonar', 'poirot', 'kojong', 'keep', 'bangkok', 'handaiyan', 'comotomo', 'fr', 'pressed', 'kokoro', 'tiktok', 'ananta', 'bike', 'toolkit', 'sunsilk', 'tfs', 'campus', 'born', 'friso', 'terima', 'sided', 'mustela', 'stelatopia', 'emollient', 'mukenah', 'giraffe', 'stamen', 'cnc', 'simpan', 'shell', 'clamp', 'paperbag', 'whiteglow', 'pahit', 'tikar', 'mv', 'mikasa', 'pusing', 'pengantin', 'kalsium', 'suplemen', 'minimal', 'nsk', 'memori', 'daviena', 'penance', 'minato', 'kanae', 'fanta', 'payudara', 'suede', 'microsdxc', 'hem', 'ratcheting', 'netto', 'fatimah', 'sritex', 'microbial', 'detector', 'friday', 'perspirant', 'headband', 'bendo', 'df', 'triangle', 'kl', 'dolce', 'dia', 'mitochiba', 'treat', 'source', 'underarm', 'penggemuk', 'meningkatkan', 'kara', 'coco', 'transfer', 'golda', 'nursery', 'stress', 'jinjing', 'molto', 'pelembut', 'hairclip', 'hairpin', 'maxim', 'pantene', 'bento', 'syrup', 'sevenfriday', 'facemist', 'proof', 'kelap', 'kelip', 'rader', 'homemade', 'tajwid', 'buatan', 'minion', 'raid', 'junnov', 'desio', 'pulmicort', 'mitsuyama', 'blc', 'weave', 'crew', 'proclin', 'menyembuhkan', 'ukur', 'lingkar', 'headlamp', 'zoom', 'produksi', 'tab', 'fabric', 'edw', 'eskulin', 'suki', 'foomee', 'wired', 'sound', 'jahitan', 'albumin', 'chmpn', 'janger', 'bebwhite', 'dicas', 'scrunchie', 'pounch', 'macrame', 'sample', 'maycreate', 'fluid', 'zara', 'wdc', 'evo', 'hobie', 'senja', 'matrix', 'stres', 'silk', 'resistant', 'natal', 'broadcast', 'bercahaya', 'veet', 'marwah', 'dipping', 'nourisihing', 'unsweetened', 'ha', 'ramen', 'porsi', 'resistance', 'orico', 'hds', 'cash', 'register', 'kasiran', 'granite', 'blister', 'monde', 'jojoba', 'catyzole', 'kalimantan', 'toko', 'tosca', 'zenfone', 'fishing', 'elbina', 'pom', 'pengkilap', 'jump', 'version', 'selotip', 'hafalan', 'pasti', 'moko', 'farley', 'sealing', 'midnight', 'heinz', 'capacitive', 'nachi', 'aaa', 'caplang', 'chef', 'lapisan', 'doft', 'doff', 'pembayaran', 'spex', 'symbol', 'racikan', 'solasi', 'segala', 'panom', 'gma', 'imperion', 'moringa', 'perjalanan', 'glue', 'mcm', 'biortex', 'prix', 'compound', 'date', 'rub', 'blur', 'wan', 'brukat', 'standart', 'deqiara', 'bapper', 'ujian', 'bercode', 'maker', 'milna', 'tongsis', 'keselamatan', 'bronze', 'blend', 'mermaid', 'steamboat', 'dentist', 'slimfit', 'hordeng', 'lembaran', 'reliable', 'breastfeeding', 'herbilogy', 'longgar', 'angsa', 'stradi', 'seru', 'kaplet', 'blouse', 'mooimom', 'lecicaps', 'lz', 'pipa', 'kasturi', 'geysa', 'plafon', 'rab', 'pwk', 'police', 'cetak', 'moccachino', 'li', 'cwp', 'galon', 'terbukti', 'caramel', 'sunsonic', 'volt', 'meriah', 'pernah', 'saklar', 'hamidah', 'seruty', 'uticon', 'sr', 'ff', 'abang', 'bestway', 'peeler', 'rugi', 'tak', 'turky', 'tembakan', 'inez', 'tjm', 'dres', 'golf', 'galactomyces', 'grafting', 'samira', 'berkarakter', 'mayung', 'selma', 'bisnis', 'exfoliating', 'lipbalm', 'nick', 'markisa', 'avione', 'liquified', 'longwear', 'nutrisari', 'strategi', 'guppy', 'youtuber', 'oregano', 'film', 'antena', 'sintetis', 'lasercut', 'doctor', 'axl', 'hodie', 'pearly', 'simplicity', 'digit', 'flush', 'calculator', 'intex', 'maicih', 'biotin', 'moisturising', 'dos', 'puritan', 'pride', 'gown', 'laurier', 'hidup', 'bismillah', 'catridge', 'cembung', 'neppi', 'tumbler', 'aio', 'verile', 'rodeo', 'tinju', 'lukisan', 'sand', 'bakground', 'aladin', 'embos', 'hybrid', 'nusantara', 'donut', 'dumbell', 'ijo', 'barbel', 'fuerdanni', 'edp', 'sutil', 'sb', 'nikita', 'inhalant', 'gc', 'year', 'crepe', 'eva', 'matt', 'iem', 'dancing', 'sangkar', 'apron', 'mimi', 'bulumata', 'reliza', 'shelf', 'pengukur', 'chilli', 'metalic', 'flake', 'surgical', 'khong', 'akar', 'kanker', 'mommyclopedia', 'fakta', 'tentang', 'meta', 'levi', 'supreme', 'shinning', 'bu', 'tropik', 'waiter', 'menggambar', 'lakilaki', 'krincingan', 'earbud', 'h', 'brand', 'eksim', 'special', 'bacterial', 'masih', 'ingatkah', 'bunuh', 'kuman', 'kau', 'potty', 'pj', 'jalan', 'navina', 'pulang', 'engine', 'sedu', 'pencerah', 'sapardi', 'habatussauda', 'kalbe', 'tarik', 'speedy', 'pembungkus', 'azmi', 'aspira', 'teethgenic', 'syra', 'lepas', 'dzuvia', 'monsta', 'kecepatan', 'bumblebee', 'ironman', 'willsen', 'walatra', 'karbu', 'seksi', 'karburator', 'mug', 'mozarella', 'perfetto', 'boob', 'culture', 'seasoning', 'tomat', 'beautycare', 'helwa', 'ikatan', 'coverage', 'focallure', 'omega', 'nutrijell', 'wangsit', 'sakeena', 'bakpao', 'kodomo', 'champion', 'insole', 'amaryllis', 'db', 'matematika', 'die', 'printed', 'suju', 'jessen', 'sepak', 'menyimpan', 'kardigan', 'jml', 'greentea', 'hanlo', 'pecah', 'spoiler', 'ajaib', 'gu', 'mikrotik', 'limpung', 'parutan', 'wing', 'pawpaw', 'penghalus', 'grater', 'buih', 'enblanc', 'klin', 'glitter', 'cuanki', 'seblak', 'gaia', 'opp', 'cara', 'kuliah', 'barcode', 'toddler', 'jade', 'guasha', 'panduan', 'gun', 'urin', 'handy', 'ringlight', 'nom', 'pondan', 'undangan', 'melinjo', 'emping', 'multiholes', 'bantex', 'pangsi', 'sirwal', 'bodysuit', 'gekko', 'klava', 'sertifikat', 'plano', 'flamingo', 'cctv', 'adelle', 'adele', 'adel', 'flashlight', 'adell', 'jasmine', 'losion', 'gorengan', 'tirisan', 'priming', 'orang', 'knop', 'kap', 'smartphones', 'pernikahan', 'patah', 'bon', 'advan', 'armoura', 'adiba', 'sereal', 'saniter', 'interior', 'giling', 'ettawa', 'unoo', 'hijaz', 'ream', 'paperone', 'ayah', 'jims', 'forte', 'peras', 'lime', 'extreme', 'hotin', 'ceria', 'kedaung', 'ahha', 'bostanten', 'venum', 'growth', 'yt', 'yasmina', 'syamil', 'mengurangi', 'ba', 'perfumed', 'focus', 'neon', 'obral', 'swana', 'kraft', 'inci', 'granola', 'pancing', 'digantung', 'cold', 'ember', 'pinzy', 'kong', 'magnetic', 'authentic', 'zoya', 'origami', 'lesson', 'kauskaki', 'onion', 'daia', 'rempah', 'moon', 'earth', 'wedding', 'travelling', 'celemek', 'gogo', 'stroberi', 'vc', 'rara', 'lanbena', 'silky', 'vixion', 'yamano', 'mixed', 'pokana', 'azzahra', 'capsul', 'padat', 'trick', 'oily', 'gloria', 'deterjen', 'jamsuit', 'theft', 'shinar', 'string', 'afra', 'mandala', 'hasna', 'permadani', 'sye', 'getah', 'atasi', 'jola', 'ceman', 'pajak', 'allah', 'dream', 'fisherman', 'ric', 'tornado', 'mart', 'flfashion', 'mustika', 'cem', 'corn', 'yunteng', 'vetto', 'fancy', 'semut', 'stoking', 'gholiban', 'express', 'genggam', 'photography', 'lumpur', 'syahid', 'longtop', 'jumpsuit', 'joliecollections', 'sweetener', 'palu', 'corrector', 'bakar', 'momogi', 'phantom', 'asip', 'dada', 'sangat', 'hk', 'rectangular', 'rotan', 'holo', 'acquerelli', 'klt', 'euca', 'minggu', 'bekal', 'timer', 'vegetarian', 'dynamic', 'abjad', 'mc', 'kz', 'enclosure', 'blackmond', 'misty', 'mo', 'ladang', 'lima', 'pediasure', 'lifting', 'nitto', 'kiper', 'daleman', 'mokeru', 'hangat', 'mybaby', 'griller', 'kill', 'dunia', 'kefir', 'mamaya', 'feves', 'chilmil', 'stroller', 'guna', 'd', 'male', 'colouring', 'garuk', 'dali', 'chrysanthemum', 'zippo', 'bihun', 'cb', 'popcorn', 'karina', 'ungkep', 'believe', 'tangki', 'tank', 'calcium', 'ufc', 'malika', 'pepaya', 'sustagen', 'mosscrepe', 'greentoxtea', 'pembasmi', 'gurah', 'tombow', 'swan', 'peniti', 'mosquito', 'perajang', 'xeon', 'termasuk', 'icon', 'pelurus', 'superstay', 'ya', 'tungku', 'sharpener', 'snow', 'haramain', 'mayonnaise', 'reinvent', 'maestro', 'sol', 'maybelline', 'bangunan', 'baked', 'ponsel', 'imagine', 'paduan', 'antiradiasi', 'saten', 'dihapus', 'gayung', 'spiral', 'nanotechnology', 'name', 'sentuh', 'thn', 'toilette', 'willy', 'gol', 'emergency', 'ketiak', 'deodoran', 'keyglow', 'amd', 'embosh', 'sabrina', 'registrasi', 'erigo', 'cosmo', 'pin', 'voucher', 'cagoule', 'fantasy', 'bln', 'rovega', 'laku', 'grup', 'dilengkapi', 'odong', 'ghonam', 'remo', 'babyfit', 'freshpack', 'gm', 'gh', 'crispy', 'lite', 'kerucut', 'waterpass', 'run', 'valve', 'axe', 'ketupat', 'digunakan', 'measure', 'protective', 'operasi', 'bohobaby', 'koi', 'ionic', 'perosotan', 'angpao', 'siswa', 'armor', 'tua', 'otp', 'pencabut', 'vania', 'lagie', 'chatramue', 'bather', 'pomade', 'buffy', 'consina', 'kaligrafi', 'lactamond', 'lopper', 'chilschool', 'lembab', 'esmonia', 'fairiese', 'duo', 'bantu', 'mextril', 'scratch', 'shuang', 'cerah', 'balonasia', 'space', 'musk', 'pit', 'lilian', 'spectrum', 'klakson', 'bundling', 'reality', 'alivia', 'capture', 'tsel', 'mohon', 'kantung', 'corong', 'salon', 'maling', 'maison', 'sp', 'avanza', 'flashdisk', 'nt', 'kido', 'unique', 'diffuser', 'denso', 'aplikator', 'aqila', 'livior', 'klinskin', 'replacement', 'ak', 'freshener', 'ktp', 'spun', 'barong', 'somethinc', 'hannah', 'dakron', 'corak', 'sediment', 'rabbit', 'lukis', 'setel', 'fardhu', 'kiddo', 'himaru', 'liong', 'binatang', 'hukum', 'sh', 'landak', 'lgsat', 'global', 'garmedia', 'pengocok', 'sagu', 'supercat', 'kiriman', 'kabut', 'kandang', 'tani', 'liauw', 'puppy', 'bgsr', 'sisa', 'morinz', 'teeth', 'melody', 'sah', 'absolute', 'plastic', 'amanah', 'enlarged', 'cica', 'haira', 'seed', 'win', 'file', 'moisturer', 'excellence', 'gum', 'moma', 'rusk', 'scarf', 'naik', 'tuffah', 'prof', 'aurora', 'tempe', 'trend', 'anchor', 'mythic', 'output', 'ennwen', 'tangkai', 'misbi', 'tenteng', 'pemanas', 'dasar', 'spoon', 'potentate', 'elite', 'chimmy', 'kettle', 'spirulina', 'opener', 'ballerina', 'cactus', 'terus', 'elastic', 'nuface', 'growssy', 'kasir', 'qm', 'merries', 'musang', 'pool', 'terang', 'trolley', 'zodiac', 'exacta', 'min', 'p', 'ack', 'yr', 'jimin', 'salad', 'captain', 'seli', 'sketch', 'general', 'dial', 'livina', 'longan', 'oren', 'bicara', 'narsis', 'perak', 'chuck', 'bergaya', 'azarine', 'taylor', 'slide', 'julius', 'pel', 'brief', 'uray', 'ertos', 'schick', 'bershka', 'sakit', 'immune', 'tripeptide', 'penyerap', 'pelumas', 'eyexpert', 'celengan', 'collarich', 'colla', 'mtb', 'jenggot', 'spin', 'autofocus', 'jika', 'rms', 'bulb', 'ujungbesi', 'pengontrol', 'wadimor', 'melembabkan', 'kobe', 'correction', 'prettia', 'standar', 'kasus', 'sholeh', 'tato', 'bam', 'tepung', 'monstera', 'pancuran', 'omura', 'coconut', 'pelengkap', 'slavina', 'bouquet', 'nutrilon', 'multifunctional', 'artline', 'selip', 'blooming', 'dior', 'advantage', 'anime', 'miss', 'beater', 'shahabiyah', 'dragon', 'liese', 'kimia', 'ionizer', 'jigsaw', 'sulami', 'sutera', 'racinghell', 'elektronik', 'bubu', 'fluorocarbon', 'watercolour', 'xps', 'bolbal', 'trabucco', 'leader', 'turun', 'truk', 'handsome', 'allstar', 'mimosa', 'castle', 'compressed', 'seprei', 'adventure', 'ujung', 'garut', 'sebaguna', 'cikrak', 'kaf', 'zjiang', 'je', 'mesran', 'nay', 'beachside', 'grilled', 'kolian', 'sipulen', 'infused', 'sae', 'teapot', 'vege', 'pandan', 'choice', 'ornamen', 'designing', 'xiang', 'multicolor', 'wnd', 'gyt', 'receipt', 'united', 'pertamina', 'slipon', 'proyektor', 'medika', 'shinzu', 'pil', 'philipines', 'giv', 'babyface', 'rebus', 'khitan', 'gazela', 'krem', 'dreamwear', 'hup', 'learning', 'louluen', 'every', 'welcome', 'steampunk', 'network', 'bust', 'parut', 'gosok', 'morning', 'syahrini', 'noribet', 'chek', 'almostblue', 'kirei', 'stevani', 'cao', 'ulzzang', 'twelve', 'penggaruk', 'cucur', 'nabati', 'garukan', 'jenica', 'vgen', 'ground', 'davina', 'donita', 'pengasah', 'moist', 'kaffir', 'stacko', 'activ', 'dreamcon', 'nobluk', 'sulem', 'redoxon', 'susut', 'mada', 'rahnem', 'elizabeth', 'ngt', 'sashet', 'kehidupan', 'bop', 'aqw', 'rekayasa', 'ibadah', 'scooder', 'silkoro', 'fiqih', 'grande', 'komjen', 'tpt', 'fikih', 'duck', 'swim', 'pol', 'gujhui', 'false', 'drs', 'berbunyi', 'baja', 'gordeng', 'bluetoth', 'rouge', 'gymboree', 'transmiter', 'cintaku', 'pomelo', 'shimano', 'opium', 'extrait', 'galvanized', 'baccarat', 'pantyliner', 'kurkdjian', 'francis', 'mfk', 'ysl', 'rel', 'gelascouple', 'pantiliner', 'karasa', 'coffin', 'hazel', 'fingernail', 'pengap', 'fighter', 'sebum', 'deal', 'setok', 'cavali', 'xx', 'lusty', 'kedip', 'gentong', 'witch', 'wristape', 'sementara', 'luffy', 'nouvo', 'sbm', 'spc', 'farasya', 'bored', 'roberto', 'vanbelt', 'lasting', 'sinus', 'papertube', 'dharma', 'komposit', 'cantonese', 'dixon', 'pongrekun', 'crisp', 'diknas', 'thayers', 'taroko', 'ab', 'look', 'terowongan', 'keihin', 'renata', 'alergi', 'sinusitis', 'deore', 'tiang', 'avo', 'spencer', 'eyeglass', 'nursh', 'lain', 'prima', 'fasoion', 'thing', 'harmonika', 'deskripisi', 'pumpberry', 'whiteninh', 'senteurs', 'blanche', 'blok', 'zrey', 'hush', 'monitor', 'sprinkel', 'tassekolah', 'meyimpan', 'fion', 'physical', 'healty', 'diatas', 'antam', 'certieye', 'im', 'berhitung', 'gordyn', 'swatter', 'bangstan', 'tempo', 'arascarf', 'palmolive', 'chairil', 'anwar', 'divider', 'butir', 'sarkoci', 'karangan', 'bridal', 'automatis', 'camping', 'zayoseed', 'mcg', 'irit', 'earmuff', 'termostat', 'keperluan', 'sei', 'yonex', 'ammara', 'xh', 'tiongkok', 'dome', 'bw', 'breathing', 'hipster', 'horn', 'cycling', 'rpg', 'blackpepper', 'dustproof', 'fresha', 'minta', 'dibanting', 'cilla', 'bloom', 'cosmomed', 'pojok', 'geber', 'sedimen', 'admin', 'chat', 'rotary', 'elformula', 'corner', 'garden', 'aerosol', 'okk', 'baygon', 'tetas', 'wajib', 'ruffel', 'ayandra', 'battlestar', 'asian', 'rapmonster', 'desinfectan', 'tid', 'dulux', 'hovelshop', 'america', 'kettler', 'growsy', 'isap', 'vitacimin', 'plakban', 'jhope', 'jin', 'jungkook', 'taehyung', 'uap', 'suga', 'jell', 'dab', 'murottal', 'murajaah', 'glulagen', 'harrington', 'staylast', 'hafiz', 'aleesha', 'premi', 'camelia', 'bikin', 'wfu', 'cutemoslem', 'hourys', 'khair', 'amara', 'bunting', 'latin', 'banner', 'cerita', 'bahasa', 'billingual', 'styling', 'vertikal', 'horizontal', 'oila', 'aligner', 'beatrice', 'tracking', 'proyek', 'vidoran', 'jkl', 'flyknit', 'xmart', 'velucia', 'farm', 'bunda', 'carnauba', 'telescopic', 'miswak', 'duster', 'kemoceng', 'igabus', 'sepatuconverse', 'undefeated', 'tech', 'smith', 'tols', 'ramus', 'soshum', 'tanami', 'tulisan', 'tanamu', 'gelap', 'mmtoys', 'rocket', 'bersalin', 'babylook', 'racing', 'masalah', 'spesialis', 'berlemak', 'limatta', 'karmedia', 'tmall', 'zakaria', 'sistem', 'nahwu', 'nu', 'pengupas', 'berkilau', 'lawan', 'babymauri', 'blacksmith', 'kuken', 'bollero', 'lexoir', 'ohbaby', 'caesar', 'hanbook', 'flora', 'fairuz', 'pcx', 'fidelya', 'ksm', 'leivy', 'kerincing', 'bezita', 'goku', 'mesjid', 'musala', 'denin', 'mushola', 'olivara', 'sedekah', 'sodakoh', 'musholla', 'masjid', 'lilit', 'vynil', 'cracker', 'cetek', 'popped', 'ohmagrain', 'pka', 'lavina', 'mirascreen', 'kae', 'kayser', 'sampo', 'mencerahkan', 'memutihkan', 'whiteboard', 'konventer', 'stik', 'bentur', 'rafael', 'salgado', 'guaranteed', 'seaweed', 'noi', 'tao', 'fixit', 'persian', 'magmag', 'bmw', 'ramos', 'permanen', 'djoko', 'damono', 'rintik', 'scarlet', 'whithening', 'vanish', 'funstore', 'credit', 'trk', 'clearance', 'fb', 'multicolour', 'gadmei', 'tuner', 'jtfs', 'husna', 'kedap', 'inchi', 'polylab', 'goji', 'half', 'insulin', 'huwai', 'chill', 'infra', 'donny', 'saudi', 'elegaan', 'camo', 'perbakin', 'realtree', 'shooter', 'kjp', 'azzora', 'penyimpan', 'hugo', 'emely', 'penghitam', 'helios', 'everywhere', 'bayfresh', 'export', 'bambang', 'reciept', 'freezer', 'lily', 'zuper', 'snackin', 'alive', 'cegah', 'antibody', 'holisticare', 'kind', 'cop', 'ayunanan', 'bedding', 'pentel', 'peony', 'kerikil', 'kendra', 'mekanik', 'transfaran', 'caplet', 'hingga', 'helis', 'chrysantemum', 'cerdik', 'xvrg', 'crysyals', 'background', 'electronic', 'wrist', 'debit', 'ga', 'pematik', 'humi', 'komprung', 'safecare', 'sarcel', 'so', 'medicated', 'tumpah', 'submersible', 'armada', 'four', 'tfw', 'hellomaster', 'yelonix', 'season', 'greenlight', 'mertokusumo', 'sudikno', 'cip', 'pst', 'sekilo', 'filipina', 'maxipeel', 'tretinoin', 'hidroquinone', 'perdata', 'crazy', 'miracast', 'rapih', 'cain', 'nadhira', 'aulia', 'kojiesan', 'kojie', 'medan', 'sensitif', 'alimama', 'jelis', 'jelys', 'keropi', 'skinsuperstar', 'jely', 'bupena', 'nutricat', 'beauslim', 'creative', 'pak', 'kebun', 'kedaunghome', 'computer', 'dj', 'doreng', 'quechua', 'gaby', 'ponco', 'mazaya', 'elmondo', 'delici', 'syiria', 'smokering', 'aladdin', 'mody', 'bokoma', 'smoant', 'artis', 'shaking', 'aqiqah', 'crocs', 'rhiana', 'diabetic', 'fermipan', 'spy', 'cam', 'dv', 'keychain', 'desinfectant', 'tarotarono', 'vision', 'bottonscarf', 'lauk', 'dewy', 'lassercut', 'copotan', 'perbungkus', 'herlant', 'renovator', 'owen', 'genie', 'kupiah', 'uas', 'halilintar', 'ata', 'subwoofer', 'akut', 'bdg', 'rimba', 'vanesa', 'kemejapria', 'kemejacowok', 'pri', 'artwork', 'viktor', 'frankl', 'noura', 'yashcollection', 'publishing', 'prada', 'winter', 'hb', 'sparkle', 'asera', 'self', 'healing', 'asd', 'hypoallergenic', 'grb', 'rojolele', 'kompek', 'liqwid', 'liqwit', 'petir', 'kronis', 'softener', 'range', 'spieler', 'sada', 'ewagrosir', 'silang', 'absolut', 'caviplex', 'etanol', 'tumit', 'gsk', 'hapus', 'risenutri', 'paroparoshop', 'flaskdis', 'keluarga', 'raidall', 'fungi', 'sheborrhea', 'column', 'qurta', 'trimuji', 'cassanova', 'toning', 'chicken', 'chamomile', 'katsu', 'uhd', 'sdxc', 'roku', 'hydrate', 'detergen', 'theraphy', 'angle', 'alo', 'etti', 'lovey', 'kesing', 'shakilla', 'kilau', 'pernafasan', 'pelega', 'frill', 'decongestant', 'signature', 'globe', 'blindspot', 'followme', 'ceramide', 'swallow', 'rinia', 'missha', 'airy', 'tong', 'wantong', 'temporary', 'tatoo', 'tattoo', 'expression', 'colorful', 'hyuna', 'comfortable', 'kiss', 'hoki', 'dermovate', 'prily', 'terdaftar', 'tenis', 'shiyan', 'keeper', 'tennis', 'bruno', 'cheryll', 'sequin', 'kayla', 'nadira', 'legit', 'naghal', 'tall', 'nutribaby', 'prosyneo', 'kencono', 'congklak', 'talbis', 'fierce', 'iblis', 'setan', 'imam', 'syafii', 'tahqiq', 'syaikh', 'ugreen', 'hasan', 'nursing', 'ester', 'reuseable', 'bfe', 'daai', 'mahera', 'imaske', 'oktober', 'update', 'quen', 'raisa', 'moscrape', 'barbecue', 'serupa', 'mentega', 'bongsai', 'viand', 'bawahnya', 'pyary', 'turmeric', 'bevande', 'carrot', 'glutta', 'pajera', 'haymeestore', 'soraya', 'folio', 'barco', 'perlindungan', 'kleveru', 'yuzu', 'kehaamilan', 'kemenkes', 'bunglon', 'inspic', 'penambah', 'ellobebe', 'sayap', 'angel', 'screenguard', 'antigores', 'twowaycake', 'temperglass', 'martabak', 'benang', 'colourful', 'agar', 'bubel', 'babel', 'setara', 'nf', 'kairos', 'axio', 'permana', 'mustard', 'gerai', 'sarangheo', 'gesture', 'sgc', 'oxy', 'kere', 'nutrijel', 'bayu', 'lengket', 'elliptical', 'kamu', 'santika', 'fernanda', 'ballon', 'ketek', 'dail', 'activated', 'earloopp', 'dekor', 'zafina', 'gak', 'fsk', 'sendiri', 'bengbeng', 'cyncyn', 'asdf', 'benhur', 'toska', 'posture', 'brazil', 'geababy', 'gerobak', 'raya', 'captanak', 'pikangswang', 'alam', 'curry', 'sketchbook', 'webbing', 'fi', 'berkwalitas', 'hologram', 'pikangsuang', 'suang', 'pikangshuang', 'biscuit', 'rexus', 'warfaction', 'bundle', 'footage', 'shining', 'bathroom', 'organisme', 'pertanian', 'pupuk', 'randu', 'fear', 'god', 'vacum', 'speedometer', 'speedo', 'cutbray', 'quenn', 'chipboard', 'mdf', 'momami', 'saila', 'abstrak', 'licetec', 'indoplast', 'gallery', 'hijabindonesia', 'hijaber', 'neutrogena', 'hydro', 'boost', 'moisturiser', 'firefly', 'kewpie', 'steady', 'simpul', 'online', 'rea', 'becahaya', 'monthong', 'mengecilkan', 'pori', 'clowny', 'bohemia', 'boho', 'imboost', 'jayen', 'bow', 'mang', 'tata', 'rj', 'shooky', 'koya', 'kukuruyuk', 'nose', 'flow', 'vibration', 'minute', 'damage', 'ziegel', 'aosept', 'duffy', 'garskin', 'jaquard', 'mascot', 'cookplus', 'shrink', 'tightens', 'minicart', 'stix', 'baacon', 'indosat', 'taurus', 'nutritional', 'shake', 'hbl', 'terlengkap', 'abutua', 'abadi', 'begah', 'beels', 'hijabinstant', 'hijabmurah', 'jilbabinstant', 'khimarinstan', 'harum', 'bersihkan', 'teabags', 'kartini', 'bina', 'lomo', 'photocard', 'ititshom', 'ultah', 'numeric', 'number', 'edgina', 'dl', 'mahira', 'open', 'rachet', 'ratchet', 'hijabinstan', 'nonpet', 'plantesis', 'unlimited', 'rotring', 'reversible', 'eksklusif', 'bamboo', 'boks', 'pakaianan', 'bsk', 'langka', 'samsan', 'scalen', 'jujur', 'headwear', 'apps', 'selangkangan', 'tokopopoksehati', 'dimmer', 'scr', 'pwm', 'vee', 'frameless', 'varka', 'wrinkle', 'kerokeroppi', 'ladyrose', 'rajasusu', 'kamper', 'lump', 'nh', 'hype', 'atocheck', 'glucose', 'keramas', 'pota', 'ubi', 'sawu', 'sarasa', 'gf', 'alana', 'molding', 'souvernir', 'sovenir', 'arabian', 'wpc', 'terbaik', 'dahlia', 'dressing', 'het', 'temukan', 'gingseng', 'sido', 'contouring', 'smu', 'skinlight', 'zoe', 'mignotya', 'aseptan', 'pistol', 'nozzle', 'fm', 'turbolight', 'siena', 'jajanan', 'armaggeddon', 'atom', 'warranty', 'mbellashop', 'berputar', 'kudasai', 'brian', 'matcha', 'lash', 'thick', 'lanyard', 'wenela', 'detail', 'sealant', 'harddisk', 'amplop', 'saffiano', 'tuna', 'folamil', 'genio', 'penyedap', 'mmb', 'kemben', 'hihi', 'abon', 'ricer', 'bogor', 'clemek', 'seragam', 'uniform', 'drifit', 'khrisna', 'joran', 'relix', 'cingcay', 'sleting', 'ottogi', 'kiranaofficial', 'ruby', 'outwear', 'dalgona', 'lerberg', 'develover', 'mallshop', 'radja', 'capung', 'wini', 'conceler', 'ewalook', 'coocaa', 'lumen', 'liverpool', 'away', 'babalil', 'kemericik', 'panther', 'onlinegrosirbatam', 'spary', 'qualcomm', 'ul', 'deco', 'tour', 'bujo', 'journal', 'scrapbook', 'dove', 'creambath', 'ritual', 'masin', 'sade', 'bernice', 'hobo', 'slr', 'mozzarela', 'mozza', 'oversizae', 'cepol', 'tiki', 'baellery', 'cjy', 'tray', 'pushup', 'huidi', 'hex', 'migelas', 'protevit', 'mach', 'syakira', 'dlta', 'cordura', 'gurun', 'without', 'diapro', 'halaman', 'chiieskin', 'extrawhitening', 'rumana', 'bantalan', 'kebesaran', 'makassar', 'inframerah', 'bluder', 'torks', 'distributor', 'exotic', 'koas', 'trodat', 'sidik', 'notaris', 'kf', 'kfskin', 'nel', 'drontal', 'diana', 'febi', 'ix', 'electro', 'plating', 'cafele', 'kuy', 'salamah', 'bata', 'grosiran', 'clairine', 'na', 'cokro', 'underpad', 'jason', 'lotto', 'cukuran', 'millo', 'gonjing', 'dilan', 'statermkit', 'melt', 'pinguin', 'swimming', 'anduk', 'purified', 'dbe', 'tutti', 'gpr', 'pradarisa', 'umrah', 'antibasah', 'erha', 'softjeans', 'mixiu', 'scru', 'sbd', 'penggorengan', 'mercy', 'lifespace', 'rontok', 'readystock', 'scruncie', 'arl', 'fin', 'noera', 'lira', 'delivery', 'jabodetabek', 'freshly', 'juiced', 'kangyingbao', 'sterillization', 'germ', 'extender', 'perpanjang', 'nyke', 'ukr', 'airpod', 'porselen', 'porismarkt', 'canopy', 'wheat', 'lingkaran', 'start', 'hadroh', 'hilwa', 'juniorapparel', 'meo', 'smoochies', 'clothes', 'vinoda', 'bug', 'circus', 'bumil', 'alhadi', 'seketika', 'canson', 'montval', 'amerika', 'elfydo', 'polymikro', 'mikrotex', 'penampung', 'enzoga', 'sirya', 'joy', 'buahan', 'logam', 'shaver', 'trimmer', 'celamis', 'maura', 'td', 'peninggi', 'grow', 'kokoa', 'sanitaizer', 'bjg', 'cusson', 'weifeng', 'eyeluminate', 'firming', 'hyperblack', 'resseler', 'ultrasonik', 'mancur', 'city', 'atv', 'kangkung', 'pum', 'tubanan', 'stylish', 'pendant', 'lava', 'batangan', 'vibelle', 'psng', 'nongkrong', 'murce', 'lead', 'unggulan', 'wood', 'blink', 'kemampuan', 'berpikir', 'itu', 'seninya', 'seni', 'bodo', 'amat', 'gloyor', 'putri', 'saset', 'fcp', 'hidroponik', 'superboss', 'pinkcow', 'chocowhitle', 'serbi', 'plush', 'telor', 'flanel', 'redblit', 'suami', 'istri', 'pasangan', 'hagia', 'shopia', 'speddy', 'rets', 'berserat', 'tap', 'paloma', 'transportasi', 'symbicort', 'colored', 'sace', 'nyanyi', 'singer', 'restock', 'sumo', 'knee', 'elatis', 'technology', 'gelpad', 'murahhh', 'peda', 'goggles', 'rudy', 'rudi', 'syw', 'samyuwan', 'brushpen', 'halis', 'nineten', 'noru', 'taffsport', 'susan', 'izin', 'ekaliptus', 'karin', 'force', 'buna', 'kastil', 'tent', 'pedigree', 'jerky', 'roasted', 'lamb', 'smokey', 'beef', 'blackhawk', 'polisi', 'pdl', 'campuran', 'minimizer', 'luminous', 'jahannam', 'ejakulasi', 'jerigen', 'bollfo', 'greenland', 'carrera', 'meiji', 'shockproof', 'terlarisss', 'vegeta', 'gasper', 'rc', 'helicopter', 'flashing', 'flying', 'terbang', 'ernieball', 'laminasi', 'ernie', 'romeo', 'team', 'donnottag', 'toyosaki', 'listerin', 'mouthwash', 'peta', 'world', 'chili', 'berlian', 'alkhatib', 'tekiro', 'ducbill', 'humidity', 'gauge', 'probe', 'thermohygrometer', 'hygrometer', 'nimco', 'cough', 'aromatherapi', 'dotti', 'nikon', 'alfa', 'vtec', 'kudis', 'kiwi', 'neutral', 'lapangan', 'littlefoot', 'pt', 'jebakan', 'wayang', 'colorbox', 'grifphone', 'sus', 'reglan', 'ulekan', 'brembo', 'harmond', 'spektrum', 'ginseng', 'tonik', 'ruler', 'mnc', 'lola', 'inject', 'kokoku', 'cwd', 'ko', 'jovanka', 'meian', 'gerak', 'berlampu', 'pegang', 'regashi', 'ijn', 'quincy', 'vallery', 'ole', 'polymer', 'ensiklopedia', 'cerdas', 'tumbuh', 'kembang', 'ned', 'november', 'satiniq', 'luminos', 'lionstar', 'certified', 'shrimp', 'rebon', 'umami', 'gtm', 'lia', 'maskara', 'klink', 'minipod', 'kawai', 'ekonomis', 'pemantul', 'desk', 'jala', 'tiedye', 'amna', 'alusa', 'npure', 'penganjal', 'stopper', 'reflektor', 'yum', 'fullprint', 'system', 'dpt', 'dh', 'playmat', 'beda', 'crono', 'termos', 'ct', 'khania', 'masking', 'berkendara', 'ofm', 'hooide', 'produsen', 'perisa', 'posh', 'helikopter', 'abis', 'anchovy', 'angkasa', 'ny', 'ryana', 'curtain', 'physiogel', 'woca', 'peppermint', 'ini', 'saat', 'engkau', 'hati', 'geyn', 'hardcore', 'delcell', 'indria', 'different', 'pelebat', 'basreng', 'persoalan', 'sekitar', 'haid', 'darul', 'haq', 'nabi', 'olash', 'pemanjang', 'itishom', 'lovable', 'superman', 'namira', 'littlecrownn', 'smoke', 'grosirku', 'kamikadomu', 'birth', 'beyond', 'reverse', 'work', 'bbw', 'bgks', 'luggage', 'rpm', 'ellanoor', 'panasia', 'superfine', 'akuntansi', 'haryono', 'jusup', 'bense', 'valley', 'kupas', 'scent', 'shifa', 'raw', 'hutan', 'jagapati', 'kandungan', 'mrh', 'uniosex', 'isotonic', 'sweatshirt', 'veetlev', 'desstina', 'tasimporbatambagusneearrivaldijaminbagus', 'lml', 'inline', 'skate', 'disk', 'reading', 'meow', 'sidomuncul', 'mineralight', 'wetfood', 'qunr', 'kei', 'dirakit', 'naturally', 'pigmentation', 'aktive', 'unta', 'camel', 'onta', 'ngaji', 'honeymoon', 'archery', 'berkelambu', 'boat', 'saring', 'savourie', 'lex', 'depraxis', 'transliterasi', 'hamid', 'aysha', 'posisi', 'deo', 'spong', 'melahiran', 'membentuk', 'extractor', 'prl', 'photocromic', 'supersin', 'sdc', 'maseko', 'hario', 'vcf', 'breadcrumb', 'mau', 'zas', 'leba', 'mendong', 'seagrass', 'sintesis', 'sosis', 'blus', 'tumi', 'bravo', 'kelley', 'blac', 'tokodisna', 'rug', 'piramid', 'handky', 'taayoo', 'bus', 'kosong', 'risma', 'kerut', 'pengenyal', 'hairband', 'anyaman', 'avocado', 'carger', 'habbatusauda', 'psp', 'jaman', 'dulu', 'washcloth', 'waslap', 'center', 'safiya', 'plushy', 'coowing', 'orginal', 'bengkuang', 'extrafit', 'pockina', 'whipped', 'haan', 'ramah', 'lingkungan', 'password', 'metromart', 'lbr', 'langit', 'anlene', 'wellnut', 'katalog', 'drag', 'daido', 'daimos', 'shopping', 'trolly', 'earlop', 'xiao', 'included', 'entropy', 'erlinski', 'windshield', 'tub', 'mengencangkan', 'alma', 'modisa', 'transformerr', 'bugatti', 'veyron', 'breathe', 'right', 'reel', 'apis', 'aja', 'infus', 'jebol', 'zwits', 'handscoen', 'smua', 'spliter', 'enamel', 'ukm', 'hadap', 'uook', 'nirkabel', 'mikrofon', 'contact', 'tembak', 'vatpro', 'repacked', 'price', 'needle', 'winged', 'infusion', 'ikea', 'eprint', 'stk', 'kva', 'slyp', 'eunak', 'smg', 'medina', 'wardrobe', 'partikel', 'pemanggang', 'tsk', 'sahira', 'intimate', 'thorn', 'bidayah', 'wa', 'nihayah', 'insan', 'kamil', 'cmedia', 'himalayan', 'dazzling', 'oksigen', 'warasa', 'sukiyaki', 'hayla', 'smf', 'voltmeter', 'bbbc', 'bilas', 'crrante', 'lulu', 'darling', 'penguin', 'mantel', 'erasable', 'nilon', 'iwatch', 'reparasi', 'philocaly', 'paking', 'kodok', 'seng', 'fruity', 'sheer', 'mbtech', 'court', 'polish', 'ayla', 'toothbrust', 'biowash', 'pokky', 'bolpoin', 'totolink', 'wl', 'mengatasi', 'buncit', 'keliling', 'zgt', 'gillette', 'fleksible', 'simply', 'rendah', 'kalori', 'gibran', 'hibraini', 'anakivitaminterlambatbicaraivitamin', 'dumbel', 'jait', 'showe', 'regullar', 'rolex', 'ruffle', 'hijrah', 'livestreamer', 'latulipe', 'function', 'pgjb', 'smth', 'combinasi', 'mizuno', 'tbi', 'carvil', 'bimo', 'denay', 'deesca', 'kini', 'libby', 'stlbknbpr', 'duckbill', 'dinemate', 'comb', 'kopiah', 'nasal', 'ketomed', 'sesya', 'blackjack', 'umpan', 'jenis', 'galatama', 'uangan', 'duit', 'saniye', 'montok', 'remi', 'poker', 'damai', 'hiu', 'pelita', 'sharper', 'twinpack', 'dropship', 'bogo', 'klasik', 'bobo', 'soklin', 'xbo', 'amis', 'essen', 'kawaii', 'kalender', 'meidy', 'otto', 'awet', 'ngintip', 'fishqua', 'kacakid', 'mucin', 'mocasin', 'italian', 'bulanan', 'strike', 'fliper', 'sweatproof', 'tiens', 'maskerspirulina', 'berjerawat', 'nagaraku', 'singgle', 'sovella', 'pamelo', 'relax', 'kerok', 'ka', 'mandiri', 'menyamarkan', 'habbatussaua', 'softgel', 'vavl', 'vightne', 'yunus', 'sc', 'var', 'jaya', 'helix', 'kb', 'monopoly', 'pemium', 'biasa', 'singkong', 'piranha', 'dummy', 'tiruan', 'simulasi', 'doremi', 'apricot', 'cocolan', 'ponzu', 'wangkers', 'jamtangan', 'schweppes', 'biola', 'violin', 'pemencet', 'language', 'shin', 'dohyun', 'yoon', 'naru', 'ind', 'sadewi', 'vinca', 'sirup', 'juara', 'bagelen', 'conductive', 'vagam', 'coach', 'bulutangkis', 'kok', 'shuttlecock', 'hantu', 'know', 'ur', 'kezia', 'xv', 'longsleeve', 'underarmor', 'ukmmarket', 'opening', 'owl', 'toolset', 'klabber', 'del', 'monte', 'lipatan', 'gardiner', 'ottimo', 'voucer', 'hairmask', 'accelerator', 'three', 'amora', 'pilar', 'gobabyshop', 'whaitening', 'cemore', 'dupe', 'desire', 'romantic', 'vial', 'applicator', 'adaptif', 'pengisian', 'medicure', 'pedicure', 'nomor', 'diabetasol', 'lolla', 'fwr', 'khalista', 'laras', 'hitsman', 'pekalongan', 'xy', 'guitar', 'oliveshop', 'tam', 'future', 'indomilk', 'secker', 'tuniq', 'anklecute', 'dodory', 'regen', 'nan', 'ph', 'ondo', 'gothic', 'edo', 'littleolala', 'aktifitas', 'mengeja', 'kata', 'mono', 'chevron', 'rismatrie', 'bergambar', 'chp', 'emoji', 'memasak', 'firstsun', 'cok', 'pastry', 'colatta', 'bake', 'stable', 'thousand', 'island', 'hizza', 'teriyaki', 'warisan', 'tersedia', 'kingpop', 'oc', 'ventela', 'carter', 'uefly', 'chubby', 'kafea', 'laveta', 'snowy', 'bagoes', 'vico', 'vco', 'deffa', 'blackpink', 'ingin', 'proyeksi', 'curley', 'readyyy', 'resealable', 'starbaks', 'hanindita', 'shiseido', 'nsh', 'tefeng', 'gumi', 'oled', 'bracelet', 'tgt', 'pelilit', 'berwarna', 'izzi', 'morale', 'azarein', 'skb', 'smini', 'triplesure', 'easycap', 'greenday', 'broccoli', 'watertech', 'hbo', 'artery', 'nugget', 'cipratan', 'criously', 'beet', 'dvd', 'glider', 'channel', 'islamic', 'parenting', 'nge', 'zumba', 'honaga', 'untulan', 'bawa', 'lovebird', 'assyabiya', 'kemdikbud', 'bushido', 'jauharut', 'rec', 'microwave', 'lala', 'polytex', 'undies', 'dryer', 'styler', 'sepanjang', 'permata', 'bayam', 'negin', 'haruka', 'menonton', 'ecopet', 'atur', 'kontras', 'bajukoko', 'bestmed', 'prodical', 'tom', 'mary', 'gop', 'expo', 'vocer', 'pemberi', 'repacking', 'minang', 'savanna', 'save', 'aura', 'earpick', 'splashproof', 'switch', 'hub', 'promag', 'exceed', 'rabbani', 'karimun', 'sze', 'sofie', 'ashtaki', 'xiomi', 'pvn', 'philipin', 'rania', 'kota', 'segeris', 'ashraf', 'alloy', 'wanky', 'akurasi', 'thermogun', 'termometer', 'aicare', 'canda', 'kispray', 'penyisik', 'sealed', 'sisik', 'dikirim', 'sandrella', 'fla', 'disruptor', 'komik', 'cookie', 'escape', 'magical', 'toblerone', 'smoothing', 'pizza', 'lisdia', 'bd', 'tpk', 'billyscraft', 'tukang', 'measuring', 'rol', 'professionnel', 'ailin', 'climber', 'buff', 'maika', 'tantrum', 'ombotak', 'rahasia', 'rezeki', 'nasrullah', 'ainun', 'zain', 'sederhana', 'machine', 'chekhup', 'os', 'isomil', 'gisella', 'kapur', 'chalk', 'early', 'education', 'huile', 'originale', 'moreno', 'dranatha', 'az', 'liqunox', 'zikra', 'agen', 'parasut', 'trivia', 'boncabe', 'saddha', 'novel', 'olymplast', 'solustion', 'luisa', 'syariah', 'neda', 'click', 'plumping', 'animous', 'shenlong', 'terpercaya', 'pentungan', 'switsbaby', 'indowangi', 'switzal', 'switsal', 'switbaby', 'dtree', 'effervescent', 'soto', 'mirip', 'dgn', 'nonpad', 'xxxxl', 'xxxxxl', 'surya', 'membersihkan', 'como', 'tomo', 'april', 'nex', 'catton', 'goresan', 'fondant', 'facil', 'miband', 'monela', 'laptotop', 'inc', 'laughing', 'dc', 'cow', 'softlen', 'berkhasiat', 'enceng', 'gondok', 'peningkatan', 'keamanan', 'jumput', 'com', 'kerah', 'ribb', 'gradasi', 'oprasi', 'glasses', 'carita', 'airbag', 'gameboy', 'player', 'villa', 'gusi', 'transparent', 'bodyspray', 'jinpaidi', 'gladis', 'croped', 'nirina', 'rbk', 'rebuild', 'efek', 'menemani', 'bergerak', 'pickaboo', 'lowfat', 'nutricia', 'fragranced', 'mycare', 'multifungis', 'reebok', 'zinc', 'convenient', 'circular', 'doosl', 'tasselempang', 'infinite', 'multipack', 'ejector', 'nutrinidrink', 'heaven', 'nats', 'manik', 'tati', 'babymoov', 'lovenest', 'lelaki', 'paus', 'sudocrem', 'quicksilver', 'orbit', 'jsm', 'bigfoot', 'okulasi', 'sabit', 'shaping', 'newnew', 'voice', 'recorder', 'perekam', 'smst', 'motz', 'btc', 'kaktus', 'rhinestone', 'deashop', 'bpo', 'zap', 'mobilan', 'jip', 'road', 'inertial', 'bizarre', 'vitalis', 'winner', 'potongan', 'strummer', 'aron', 'mamonde', 'colorbalm', 'tropee', 'bebe', 'candlenut', 'pliko', 'stroler', 'hammock', 'closet', 'ayunan', 'vigel', 'lubricant', 'vloger', 'hopl', 'dodger', 'nurjanah', 'salim', 'ewa', 'graphite', 'tamu', 'mizzu', 'kodorai', 'outfit', 'kubah', 'nyaring', 'taiwan', 'sofiya', 'wmhouse', 'blits', 'ich', 'methylen', 'harvard', 'jb', 'wc', 'kamboja', 'trex', 'kisah', 'polong', 'micron', 'nimble', 'flatshoes', 'paisley', 'banda', 'temulawak', 'circle', 'ganas', 'benjolan', 'fabella', 'mudik', 'olah', 'volume', 'dropplet', 'delovya', 'yessi', 'wearable', 'bcbl', 'lining', 'cloud', 'stationery', 'folder', 'emak', 'favourite', 'surabi', 'bikang', 'cekung', 'serviks', 'tiroid', 'kelenjar', 'asiku', 'smokring', 'poni', 'ariul', 'maxmara', 'kime', 'safari', 'hardisk', 'reusable', 'stave', 'prims', 'almom', 'lemom', 'viera', 'dxm', 'mastitis', 'tersumbat', 'bengkak', 'lecithin', 'mampet', 'bluetoot', 'naturafit', 'meval', 'okedashop', 'mozaic', 'mosaik', 'keterampilan', 'sensory', 'capable', 'hvs', 'shinzui', 'nutren', 'pastle', 'gekikara', 'jawara', 'nissin', 'dt', 'sao', 'tf', 'gourd', 'smartfren', 'andromax', 'enudden', 'catell', 'casablanca', 'precious', 'morasetti', 'dayslim', 'twinkle', 't', 'taffstudio', 'necklace', 'cosplay', 'perontok', 'reserve', 'iria', 'papydu', 'lemona', 'kikers', 'gyeol', 'wfn', 'tajam', 'spandeks', 'pencegah', 'bacalah', 'sambucol', 'velcro', 'fragile', 'rebook', 'freshkon', 'ripped', 'dewi', 'lo', 'shea', 'rante', 'maspion', 'colok', 'tancap', 'select', 'palazzo', 'kardashian', 'reka', 'unfinished', 'topia', 'message', 'notification', 'ecg', 'blood', 'mayonette', 'gpc', 'gamesir', 'dialogue', 'disembelih', 'banjir', 'caffeine', 'lactic', 'maharati', 'disinfectant', 'psh', 'bersinar', 'whittening', 'sho', 'rx', 'cc', 'sunscreen', 'waisbag', 'miao', 'nerve', 'ndr', 'group', 'mearangkai', 'dimensi', 'recharger', 'ordinary', 'glycolic', 'balenciaga', 'ipod', 'almon', 'himsalt', 'kincir', 'superfit', 'lomba', 'ternak', 'memanjangkan', 'ekor', 'mercon', 'mofit', 'spout', 'staedler', 'bbc', 'dinda', 'plextone', 'detachable', 'dilepas', 'xbox', 'slow', 'eyota', 'bolkus', 'autumn', 'vivid', 'mikron', 'mem', 'pelet', 'kebab', 'dadeda', 'lucas', 'papaw', 'ointment', 'lotoin', 'nitric', 'arasta', 'darboss', 'marie', 'da', 'kelor', 'oleifera', 'anabele', 'mounting', 'margarine', 'paradise', 'lu', 'ayu', 'broadcasting', 'beb', 'asigen', 'spicy', 'sourvenir', 'yaa', 'sama', 'atomizer', 'kimbo', 'bolognese', 'chiz', 'hancur', 'arirang', 'bibim', 'ricoman', 'ramyun', 'fried', 'umbul', 'umbulumbul', 'gladiator', 'rechargable', 'netral', 'optistraight', 'multiguna', 'carbu', 'mtz', 'otin', 'energy', 'utensile', 'mengangkat', 'mati', 'caldin', 'prisket', 'pleated', 'flowy', 'quantum', 'maumukosmetik', 'yutind', 'melahirkan', 'vaseina', 'petroleum', 'rasulullah', 'rematik', 'khasiatnya', 'baterei', 'batrei', 'dool', 'splendid', 'roulette', 'cancelling', 'almumtaz', 'service', 'jelajah', 'deenay', 'sambil', 'advisor', 'recovery', 'vitamax', 'bin', 'affan', 'montiss', 'pepper', 'elsheskin', 'gshock', 'fitho', 'densight', 'hitz', 'malang', 'dacron', 'pancea', 'supplemen', 'yk', 'archipelago', 'scooter', 'alzahra', 'sarimi', 'ganda', 'punk', 'maxx', 'iron', 'automaxx', 'fusionpro', 'velg', 'aspal', 'sauna', 'flavour', 'permen', 'pemantik', 'homi', 'bajubojo', 'rdi', 'sorella', 'pleasent', 'tsuki', 'krakakoa', 'winkwhite', 'cordyceps', 'yu', 'lacta', 'jothelabel', 'pawon', 'ibun', 'kampung', 'teri', 'tepok', 'maula', 'bauty', 'anmum', 'fruut', 'chun', 'oryginal', 'kupingan', 'pangkon', 'revo', 'tirev', 'aseyoriku', 'sarerang', 'kawung', 'follow', 'sherlock', 'respirator', 'jabar', 'sienna', 'bermotif', 'megastore', 'orchid', 'hanya', 'jessy', 'umberella', 'polytron', 'pma', 'peroxide', 'luxury', 'colourfull', 'kuarsa', 'nbrs', 'taqwa', 'nicole', 'kelsey', 'enlarger', 'geneva', 'romawi', 'shoppe', 'inone', 'dessert', 'keloplast', 'cameroon', 'span', 'mejik', 'odd', 'odh', 'slimpink', 'sosro', 'youngpro', 'mpek', 'keloid', 'sense', 'scar', 'yntshopp', 'mahasiswa', 'kembaliu', 'handfat', 'oto', 'hoover', 'aromatheraphy', 'sukkari', 'sniper', 'surface', 'yuri', 'facemask', 'kumbang', 'sumbawa', 'alfatih', 'cony', 'mobilio', 'sambung', 'ananda', 'ap', 'hw', 'bikit', 'guard', 'ortus', 'hawa', 'helmet', 'grisea', 'wakita', 'foodindo', 'bolognaise', 'seal', 'micropone', 'zaqia', 'zich', 'depok', 'sematakaki', 'gransi', 'bonet', 'noni', 'krayon', 'titi', 'stay', 'last', 'dower', 'hardcover', 'shakina', 'bliss', 'bayclin', 'toneup', 'lazy', 'lazel', 'skinest', 'clinic', 'optimus', 'goddesskin', 'drain', 'ck', 'keith', 'charles', 'blackcoffe', 'aubree', 'salwa', 'tp', 'boson', 'kinclong', 'revoflex', 'xtreme', 'knalpot', 'parisian', 'wallsticker', 'tiram', 'row', 'ditrmpat', 'xb', 'siti', 'khadijah', 'pasteleena', 'sulam', 'tokolobo', 'liquide', 'bip', 'carrying', 'slem', 'safeglove', 'nitrile', 'renu', 'rotate', 'cepuk', 'bukatoko', 'bergaris', 'clutch', 'clamshell', 'zhu', 'ol', 'capek', 'dermovete', 'balmoral', 'terbuka', 'temperatur', 'habbat', 'habbasyi', 'chocolatos', 'jojon', 'kasing', 'boxser', 'lecetia', 'pointer', 'getar', 'pancake', 'snnabillahfashion', 'quilting', 'qualitas', 'diary', 'sejkt', 'wonderline', 'kisd', 'hfc', 'spider', 'shaker', 'samyun', 'zelyne', 'nabawiyah', 'kautsar', 'wipol', 'karbol', 'freon', 'investigates', 'melacak', 'cell', 'toer', 'hanesa', 'polusi', 'interactive', 'purifying', 'extershield', 'ketika', 'bumi', 'manusia', 'pramoedya', 'stimulant', 'zoomstar', 'lit', 'bogesi', 'tiara', 'lebah', 'babe', 'eyemask', 'sunbabes', 'jemur', 'backlight', 'nambah', 'arowana', 'arwana', 'buket', 'azgalery', 'lompat', 'kansen', 'kostum', 'tangguh', 'dijaminterbaik', 'tummy', 'disiniaja', 'nata', 'cling', 'pyram', 'balet', 'fujifilm', 'instax', 'bekasi', 'sampah', 'injak', 'ltr', 'dustbin', 'akik', 'apoteker', 'hilang', 'selendang', 'edge', 'scan', 'bukti', 'keaslian', 'babi', 'cu', 'jiu', 'chakerboard', 'teat', 'dijual', 'bandul', 'terpisah', 'sawi', 'kargo', 'suling', 'seruling', 'indoor', 'peperomia', 'dubai', 'jvk', 'shockpoof', 'lenscase', 'kemenskes', 'mistique', 'jobel', 'hippo', 'wilo', 'gosend', 'dki', 'sejarah', 'mil', 'jaminan', 'craft', 'prewalkers', 'babycute', 'luis', 'nigella', 'sativa', 'minisize', 'street', 'pace', 'precision', 'screwdriver', 'story', 'evergreen', 'geometri', 'cosy', 'boromon', 'natura', 'eveready', 'month', 'activuty', 'baret', 'stylist', 'sylvanian', 'roof', 'cottage', 'reed', 'cozy', 'boxy', 'silinder', 'vitabumin', 'nutrisi', 'kecerdasan', 'gabus', 'tunis', 'wakai', 'kollagen', 'ku', 'ching', 'wholesale', 'staple', 'kenko', 'cook', 'palladium', 'fiorentino', 'kompres', 'gsp', 'mengkilap', 'disni', 'delica', 'baik', 'nektar', 'kelengkeng', 'moscare', 'jig', 'lure', 'bait', 'freshwater', 'ji', 'keypad', 'touchpad', 'backlit', 'sn', 'dinosaurus', 'plossa', 'waffle', 'crunchox', 'nunchaku', 'baton', 'np', 'jebeel', 'purebass', 'kumis', 'alphabounce', 'frt', 'mooyoo', 'ompreng', 'bolpen', 'marshwillow', 'forest', 'natasha', 'wilona', 'passeo', 'ikiloshop', 'dancow', 'protein', 'pamper', 'instagram', 'devi', 'aprianti', 'phte', 'elana', 'warmwhite', 'nqil', 'torabika', 'exhaust', 'extrafill', 'est', 'dolphinwave', 'juga', 'kencana', 'serbet', 'hte', 'tartan', 'tiparos', 'mixy', 'snakers', 'defect', 'collor', 'caryn', 'raindoz', 'jupon', 'tresno', 'joyo', 'tj', 'ggmart', 'thomas', 'lot', 'iket', 'shieraki', 'sara', 'uvw', 'benefit', 'muniko', 'queensativa', 'ygk', 'rysya', 'asturo', 'surfinclo', 'bokser', 'rdn', 'staye', 'suncare', 'gucci', 'spalsh', 'lozy', 'febrianti', 'beeme', 'aku', 'tersenyum', 'nabiku', 'boardbook', 'krincing', 'freefire', 'gamers', 'boyah', 'soes', 'thamos', 'gerbong', 'glucosamine', 'sulfate', 'shalawatin', 'marshal', 'sharing', 'kaylie', 'fairgoods', 'kapasitas', 'mbb', 'butbut', 'hni', 'yeiko', 'dirumah', 'tmt', 'sunkist', 'tce', 'victoria', 'streamline', 'transparant', 'liya', 'airstone', 'pemecah', 'gelembung', 'magnifique', 'mochilo', 'veno', 'domino', 'ketangkasan', 'mhs', 'turkiye', 'yakar', 'tdk', 'entrasol', 'rosy', 'brulee', 'yatta', 'kelipatan', 'mousepad', 'alif', 'dish', 'drainer', 'shella', 'sdr', 'habis', 'gulung', 'boboho', 'paha', 'ozone', 'curve', 'kagumi', 'dax', 'stf', 'azalea', 'sahara', 'clakson', 'conver', 'yuka', 'hbq', 'gery', 'krekeres', 'asin', 'olshop', 'etnik', 'pemula', 'utama', 'habbatussaudah', 'finna', 'seleraku', 'kicosport', 'aeroframe', 'shinguard', 'curly', 'otomatis', 'res', 'chameleon', 'pkw', 'jj', 'kombi', 'xinyia', 'clothing', 'bx', 'doramini', 'despicable', 'stuart', 'kevin', 'bob', 'animation', 'dja', 'sunswallow', 'tokyo', 'agam', 'qomishu', 'alkhalis', 'kiriko', 'zolaqu', 'deteksi', 'jf', 'sulfur', 'noise', 'sesudah', 'migrain', 'baut', 'impiantoko', 'dlusia', 'yumna', 'flex', 'sewing', 'flavor', 'haircare', 'gbu', 'azzura', 'mur', 'penyedot', 'tang', 'evolene', 'evomass', 'gainer', 'mass', 'glysolid', 'glycerin', 'gule', 'calendula', 'robotic', 'berminyak', 'scalppure', 'highquality', 'bulgogipan', 'marble', 'gg', 'goldenick', 'tan', 'viii', 'kickstand', 'transformer', 'bebelac', 'camerahybrid', 'siput', 'teajus', 'fudenosuke', 'byebye', 'carabiner', 'naturehike', 'appeton', 'weight', 'gain', 'hchana', 'azloe', 'qualty', 'cere', 'chime', 'shoestring', 'bart', 'lezat', 'jolly', 'blast', 'tu', 'fino', 'company', 'kh', 'enchanteur', 'hagelslag', 'charming', 'vegetable', 'trm', 'hprojects', 'pajama', 'koleksi', 'porta', 'pliskera', 'lampung', 'local', 'cuka', 'tahesta', 'flair', 'serokan', 'fairly', 'diamon', 'sakti', 'telkomsel', 'ppn', 'heavy', 'shinpo', 'ribbon', 'mocca', 'jacquelle', 'ngengat', 'ujicoba', 'kensi', 'meylan', 'balitung', 'belitung', 'ulin', 'berhologram', 'kolestrol', 'steak', 'bulgogi', 'dragee', 'scot', 'pulau', 'mastering', 'manga', 'tutorial', 'qq', 'olay', 'camellia', 'remah', 'cashew', 'wei', 'tumor', 'glowy', 'primer', 'sitikhodijah', 'syahbani', 'tasik', 'glosir', 'smiling', 'patch', 'ausie', 'pendeteksi', 'maxpower', 'sendi', 'larutan', 'fmb', 'mariska', 'furwa', 'ella', 'spassy', 'wafle', 'melar', 'lang', 'bloon', 'shaper', 'zen', 'side', 'shinta', 'navi', 'bhn', 'emoticon', 'prosamura', 'urat', 'mybottle', 'psikologi', 'blachead', 'molreng', 'pola', 'katak', 'equilibrio', 'jnt', 'tila', 'semir', 'terampuh', 'sync', 'rekatnya', 'seuhah', 'sarlito', 'latalata', 'surfing', 'dimmable', 'zuriat', 'doum', 'promil', 'perbiji', 'lobek', 'canebo', 'airframe', 'drybag', 'sugu', 'gulabatu', 'sarwono', 'lest', 'chilkid', 'php', 'mila', 'outher', 'knot', 'powerstay', 'yen', 'vitmen', 'sunhouse', 'biozone', 'insulasi', 'excelso', 'arabica', 'minipetite', 'packaging', 'wedang', 'uwuh', 'biolage', 'mercedez', 'ibnu', 'nibosi', 'gliter', 'glamor', 'pulsa', 'rain', 'processed', 'poping', 'liplapin', 'tinted', 'registered', 'frying', 'vol', 'oversized', 'airpods', 'caiskids', 'bigbang', 'ikon', 'ramadhani', 'tory', 'burch', 'handguard', 'glamour', 'lavella', 'benz', 'tujuan', 'arum', 'arbanat', 'nusa', 'pei', 'rekat', 'paketan', 'km', 'biar', 'sampe', 'rtd', 'ia', 'universe', 'post', 'lea', 'permbesar', 'enlargd', 'rtopr', 'pengelupasan', 'pinksoft', 'lid', 'enam', 'pengendali', 'cucu', 'rebo', 'kanan', 'kiri', 'tanam', 'pck', 'tekstur', 'megabass', 'serie', 'elmer', 'kuaci', 'convers', 'waroeng', 'quad', 'meninggalkan', 'rumbai', 'gerd', 'magastrol', 'asma', 'paru', 'sesak', 'nafas', 'pariasi', 'bertali', 'coral', 'porcelain', 'shanen', 'permanent', 'khodry', 'penyubur', 'alkhodry', 'refiner', 'kabah', 'stabillo', 'relikui', 'kematian', 'fokus', 'kebutuhan', 'gracia', 'dira', 'kittyshopgirls', 'subsidi', 'fotocopy', 'spen', 'canvas', 'omhapgbk', 'acneser', 'acnoc', 'eos', 'readi', 'blackmatte', 'rapi', 'blenz', 'pelumat', 'bepergian', 'lipgel', 'bouncer', 'yogyakarta', 'vista', 'alamond', 'softlenses', 'steker', 'arde', 'bengkok', 'catur', 'tpb', 'platform', 'penggoreng', 'katuk', 'felicia', 'sunkrisps', 'blclb', 'kd', 'chocochip', 'flaminggo', 'blanket', 'selamanya', 'momoechi', 'ri', 'asuka', 'transverse', 'softergent', 'purple', 'foaming', 'picture', 'command', 'artist', 'maroco', 'tunikmurah', 'atasanwanita', 'atasantunik', 'bajutunik', 'mond', 'zoyamix', 'mantab', 'chelsea', 'vega', 'concept', 'talenan', 'dosting', 'kojic', 'pengendara', 'antione', 'never', 'alone', 'sejuk', 'ashoka', 'karton', 'mente', 'sulawesi', 'timbunan', 'bodyshop', 'bodymist', 'reject', 'gaiarasa', 'nungeunah', 'rxking', 'ss', 'gir', 'gear', 'pengangkat', 'hanfat', 'khanzaacc', 'acmic', 'forward', 'ayudia', 'wollycrepe', 'nct', 'reload', 'regency', 'zdlx', 'shikada', 'quatran', 'cdrw', 'combine', 'tritan', 'xyz', 'nussa', 'gearset', 'jirifarm', 'ampere', 'notebook', 'hlp', 'proplan', 'agung', 'zuperrr', 'trondheim', 'rasulallah', 'sedak', 'ouyou', 'ballpoint', 'eksplor', 'highlight', 'popcron', 'zaina', 'kalisha', 'lumur', 'whiteneng', 'tib', 'artifisial', 'kena', 'raisin', 'simin', 'cardie', 'terlarissss', 'acer', 'zoetoys', 'trening', 'dembali', 'penjualan', 'evoo', 'casa', 'oliva', 'olivia', 'rbok', 'splitfly', 'luncuran', 'powerful', 'zwitsbaby', 'sumput', 'rekapan', 'walnut', 'penghancur', 'tinggal', 'alias', 'optimum', 'edt', 'kismis', 'drying', 'silau', 'ctb', 'jm', 'tragbare', 'rhama', 'totebags', 'totte', 'shaira', 'gdm', 'sadel', 'pegas', 'vixie', 'elavoz', 'saddle', 'resin', 'lengkeng', 'dried', 'hanabi', 'stringbag', 'reyya', 'transforming', 'juventus', 'kojima', 'moonship', 'kokoh', 'poligrab', 'kiramas', 'amplifier', 'powdered', 'sensigloves', 'berwyn', 'trendi', 'maron', 'sof', 'tresemme', 'cleanse', 'aconeskin', 'lamuseland', 'syifa', 'twill', 'helo', 'minecraft', 'kisonli', 'karaoke', 'ladybug', 'pnri', 'perum', 'sehari', 'lh', 'idul', 'fitri', 'tapak', 'musikal', 'pneumatic', 'grenhouse', 'jogging', 'aerobic', 'ovulation', 'mendeteksi', 'zakia', 'subur', 'ovulasi', 'handbagku', 'character', 'aseptik', 'refreshing', 'anj', 'zamzam', 'budshitam', 'parcel', 'pendingin', 'beach', 'croope', 'umar', 'virtual', 'breastshield', 'skeleton', 'innova', 'agya', 'briana', 'seribu', 'okiko', 'dian', 'sastro', 'wakaf', 'terbitan', 'arisan', 'imj', 'influence', 'people', 'dale', 'carnegie', 'zaki', 'dunhill', 'sugarbaby', 'halfmoon', 'window', 'systema', 'decorative', 'goyave', 'hollmann', 'betta', 'medicine', 'plakat', 'bagan', 'serit', 'outpout', 'rileks', 'pai', 'pama', 'penghapus', 'colidan', 'fucoidan', 'kathh', 'newspaper', 'koran', 'radeon', 'tecnix', 'centro', 'beragam', 'pd', 'macbook', 'dokter', 'busha', 'tomok', 'gomars', 'penne', 'rigani', 'rosela', 'macam', 'dist', 'peva', 'berlebihan', 'feel', 'vinara', 'true', 'prewriting', 'motorik', 'menulis', 'renew', 'tulip', 'setelah', 'indipink', 'violet', 'ipx', 'neapolitan', 'acq', 'kao', 'lightweight', 'quicksand', 'swat', 'serutan', 'thamhuld', 'cross', 'gurilem', 'siomay', 'toping', 'risalah', 'tuntunan', 'urutan', 'bacaan', 'kumpulan', 'dongeng', 'melembutkan', 'aukey', 'lab', 'truck', 'handwrap', 'everlast', 'handwraps', 'muaythai', 'beladiri', 'muay', 'juz', 'amma', 'pn', 'official', 'strada', 'komprang', 'flexibel', 'marine', 'sumshine', 'grt', 'fathul', 'izar', 'terindah', 'trail', 'paintball', 'arabic', 'roket', 'pimple', 'terhitz', 'gatlemen', 'agustus', 'ricisestore', 'complite', 'contra', 'shoidi', 'sahidi', 'malt', 'airsoft', 'processor', 'babysafe', 'audy', 'google', 'nest', 'generation', 'core', 'banana', 'simbicort', 'sushi', 'kualitar', 'japonica', 'hideaki', 'inayah', 'zrml', 'asepso', 'kanaya', 'polycotton', 'remot', 'basmi', 'penuaan', 'realmen', 'diasahtoys', 'telepon', 'vinyl', 'neoprene', 'fygalerymedan', 'naga', 'tungsten', 'carbide', 'gandi', 'sodet', 'shwal', 'le', 'kemas', 'ular', 'mozafati', 'acti', 'gelar', 'wisuda', 'sash', 'costum', 'bride', 'crab', 'permainan', 'raksasa', 'camilan', 'dadu', 'zetsmag', 'magh', 'wipper', 'mirael', 'cabut', 'blacksoap', 'tya', 'bros', 'kanza', 'longdress', 'wollpeach', 'khasanah', 'bahu', 'crossbody', 'selempan', 'chainlube', 'megacool', 'extract', 'ranikone', 'decoration', 'gl', 'flaxseed', 'youn', 'ellenka', 'cremer', 'santan', 'f', 'setra', 'twc', 'breket', 'iniu', 'plintir', 'see', 'crink', 'fvs', 'cupcake', 'muffin', 'heating', 'mamamia', 'dasi', 'catty', 'diabetes', 'spongebob', 'sz', 'mulan', 'belle', 'tomato', 'jogja', 'ladiesbag', 'halt', 'sps', 'bluray', 'diswashing', 'ui', 'sold', 'lingerie', 'mixdent', 'enzim', 'cooking', 'agatha', 'naomi', 'bigsale', 'tere', 'liye', 'drilling', 'kampus', 'dinas', 'bpomertos', 'whitenin', 'fitbar', 'stude', 'mule', 'yummybites', 'zuvia', 'wd', 'moisino', 'veva', 'zuzhu', 'linen'])\n"
     ]
    }
   ],
   "source": [
    "print(model_1.wv.key_to_index.keys())  # veya list(model_1.wv.index_to_key)\n",
    "\n"
   ]
  },
  {
   "cell_type": "code",
   "execution_count": null,
   "id": "f22fb3da-e12f-4941-b883-dc68c960b761",
   "metadata": {},
   "outputs": [],
   "source": []
  },
  {
   "cell_type": "code",
   "execution_count": null,
   "id": "a43edc05-5305-44a2-b473-77e73077cf84",
   "metadata": {},
   "outputs": [],
   "source": []
  }
 ],
 "metadata": {
  "kernelspec": {
   "display_name": "Python 3 (ipykernel)",
   "language": "python",
   "name": "python3"
  },
  "language_info": {
   "codemirror_mode": {
    "name": "ipython",
    "version": 3
   },
   "file_extension": ".py",
   "mimetype": "text/x-python",
   "name": "python",
   "nbconvert_exporter": "python",
   "pygments_lexer": "ipython3",
   "version": "3.12.7"
  }
 },
 "nbformat": 4,
 "nbformat_minor": 5
}
